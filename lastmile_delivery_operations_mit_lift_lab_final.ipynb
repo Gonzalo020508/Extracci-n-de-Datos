{
  "nbformat": 4,
  "nbformat_minor": 0,
  "metadata": {
    "colab": {
      "provenance": []
    },
    "kernelspec": {
      "name": "python3",
      "display_name": "Python 3"
    },
    "language_info": {
      "name": "python"
    }
  },
  "cells": [
    {
      "cell_type": "code",
      "execution_count": 1,
      "metadata": {
        "id": "_-B13KMCuuWR"
      },
      "outputs": [],
      "source": [
        "#Cargamos librerias\n",
        "import pandas as pd\n",
        "import numpy as np\n",
        "import matplotlib.pyplot as plt\n",
        "import scipy.special as special\n",
        "from scipy.optimize import curve_fit\n",
        "import seaborn as sns\n",
        "from sklearn.metrics import r2_score\n",
        "from sklearn.model_selection import train_test_split\n",
        "from sklearn.preprocessing import StandardScaler"
      ]
    },
    {
      "cell_type": "code",
      "source": [
        "#Cargar archivo csv\n",
        "from google.colab import files\n",
        "files.upload()"
      ],
      "metadata": {
        "id": "qGD1hCzBu8sf"
      },
      "execution_count": null,
      "outputs": []
    },
    {
      "cell_type": "code",
      "source": [
        "#Cargar desde un xlsx sin indice\n",
        "lastmile=pd.read_excel('lastmile_delivery_operations_mit_lift_lab.xlsx')\n"
      ],
      "metadata": {
        "id": "hCyJezlnu3Cz"
      },
      "execution_count": 6,
      "outputs": []
    },
    {
      "cell_type": "code",
      "source": [
        "lastmile.info(1)"
      ],
      "metadata": {
        "id": "UavmGInfWDLH"
      },
      "execution_count": null,
      "outputs": []
    },
    {
      "cell_type": "code",
      "source": [
        "#Identificar valores nulos\n",
        "valores_nulos_lastmile=lastmile.isnull().sum()\n",
        "valores_nulos_lastmile"
      ],
      "metadata": {
        "colab": {
          "base_uri": "https://localhost:8080/"
        },
        "id": "gdiRGyqWv0R9",
        "outputId": "15ce42ec-b800-4080-9cfc-e2273d564cbd"
      },
      "execution_count": 8,
      "outputs": [
        {
          "output_type": "execute_result",
          "data": {
            "text/plain": [
              "_record_id                                         0\n",
              "_title                                            10\n",
              "_server_updated_at                                 0\n",
              "_created_by                                        0\n",
              "_updated_by                                        0\n",
              "_geometry                                          0\n",
              "_latitude                                          0\n",
              "_longitude                                         0\n",
              "arrival_of_the_freight_vehicle                     0\n",
              "plates                                             1\n",
              "company_if_visible                               155\n",
              "visit_purpose                                      0\n",
              "type_of_vehicle                                    0\n",
              "number_of_operators                                0\n",
              "refrigerated_truck                                 0\n",
              "type_of_cargo                                      1\n",
              "picture_of_the_parked_freight_vehicle              0\n",
              "departure_of_the_freight_vehicle                   0\n",
              "where_was_the_vehicle_parked                       0\n",
              "while_parked_was_the_engine_running                0\n",
              "used_traffic_cone                                  0\n",
              "vehicles_unloading_door                            0\n",
              "number_of_available_trolleys                       0\n",
              "serving_customer                                 292\n",
              "garage_blocking                                    0\n",
              "accident                                           0\n",
              "describe_the_accident                            390\n",
              "noise                                              0\n",
              "traffic_congestion                                 0\n",
              "maximum_number_of_vehicles_in_the_traffic_jam    384\n",
              "dtype: int64"
            ]
          },
          "metadata": {},
          "execution_count": 8
        }
      ]
    },
    {
      "cell_type": "code",
      "source": [
        "#Reemplazamos valores nulos con el método más sencillo\n",
        "data2_lastmile=lastmile.fillna(method='bfill')\n",
        "\n",
        "#Reemplazamos valores nulos con el método más sencillo\n",
        "data2_lastmile=data2_lastmile.fillna(method='ffill')\n",
        "data2_lastmile"
      ],
      "metadata": {
        "colab": {
          "base_uri": "https://localhost:8080/",
          "height": 1000
        },
        "id": "wk_7ncUUv3mz",
        "outputId": "8a9c1ac1-4edd-466e-b611-f6fdf87402db"
      },
      "execution_count": 10,
      "outputs": [
        {
          "output_type": "execute_result",
          "data": {
            "text/plain": [
              "                               _record_id  \\\n",
              "0    1e369271-598a-464c-aec7-1913e82dc2b7   \n",
              "1    4a749c00-7c5f-45cf-8950-aa988a0d41b8   \n",
              "2    c58a450d-fe1f-4a16-a8d8-764ebd8c49a4   \n",
              "3    1a337726-bb21-4316-b3e7-f0bb4acea77e   \n",
              "4    97861280-d706-46da-b345-a6dc7bc627c4   \n",
              "..                                    ...   \n",
              "385  f964004e-67a0-4b75-b2b0-ce04b9f0b344   \n",
              "386  5656a189-19f5-45a7-b53b-1a3db0de6571   \n",
              "387  bcbd462b-4c63-490b-bfec-0ef6657ead73   \n",
              "388  cd9ba76d-d899-4d87-9512-486aedb1b149   \n",
              "389  657541f6-7871-4165-80b2-bef59db83e18   \n",
              "\n",
              "                                                _title  \\\n",
              "0    78 Avenida Orión Sur\\nTlaxcalancingo Puebla 72...   \n",
              "1    581 Avenida Orión Sur\\nTlaxcalancingo Puebla 7...   \n",
              "2    4483 Calle Camino Real a Cholula\\nSan Bernardi...   \n",
              "3                   Cholula de Rivadavia PUE 72768\\nMX   \n",
              "4                   Cholula de Rivadavia PUE 72768\\nMX   \n",
              "..                                                 ...   \n",
              "385      406-B Avenida 2 Oriente\\nPuebla PUE 72000\\nMX   \n",
              "386      406-B Avenida 2 Oriente\\nPuebla PUE 72000\\nMX   \n",
              "387      406-B Avenida 2 Oriente\\nPuebla PUE 72000\\nMX   \n",
              "388       402E Avenida 2 Oriente\\nPuebla PUE 72000\\nMX   \n",
              "389        402 Avenida 2 Oriente\\nPuebla PUE 72000\\nMX   \n",
              "\n",
              "          _server_updated_at                  _created_by  \\\n",
              "0    2022-11-27 22:14:32 UTC  Adriel Antonio Huerta Vidal   \n",
              "1    2022-11-27 22:14:31 UTC  Adriel Antonio Huerta Vidal   \n",
              "2    2022-11-27 20:12:39 UTC                María Pedraza   \n",
              "3    2022-11-27 08:18:55 UTC                  Saúl Cuervo   \n",
              "4    2022-11-27 08:18:54 UTC                  Saúl Cuervo   \n",
              "..                       ...                          ...   \n",
              "385  2022-11-03 17:54:56 UTC                 José Oropeza   \n",
              "386  2022-11-03 17:54:56 UTC                 José Oropeza   \n",
              "387  2022-11-03 17:54:44 UTC                 Emilio Garza   \n",
              "388  2022-11-03 17:14:09 UTC                 Emilio Garza   \n",
              "389  2022-11-03 17:14:09 UTC                 Emilio Garza   \n",
              "\n",
              "                     _updated_by  \\\n",
              "0    Adriel Antonio Huerta Vidal   \n",
              "1    Adriel Antonio Huerta Vidal   \n",
              "2                  María Pedraza   \n",
              "3                    Saúl Cuervo   \n",
              "4                    Saúl Cuervo   \n",
              "..                           ...   \n",
              "385                 José Oropeza   \n",
              "386                 José Oropeza   \n",
              "387                 Emilio Garza   \n",
              "388                 Emilio Garza   \n",
              "389                 Emilio Garza   \n",
              "\n",
              "                                         _geometry  _latitude  _longitude  \\\n",
              "0          SRID=4326;POINT(-98.2603919 19.0213764)  19.021376  -98.260392   \n",
              "1          SRID=4326;POINT(-98.2605677 19.0211113)  19.021111  -98.260568   \n",
              "2    SRID=4326;POINT(-98.2670348883 19.0352214575)  19.035221  -98.267035   \n",
              "3    SRID=4326;POINT(-98.2985606801 19.0817899522)  19.081790  -98.298561   \n",
              "4    SRID=4326;POINT(-98.2985890313 19.0817705579)  19.081771  -98.298589   \n",
              "..                                             ...        ...         ...   \n",
              "385    SRID=4326;POINT(-98.194933077 19.043612116)  19.043612  -98.194933   \n",
              "386  SRID=4326;POINT(-98.1948560508 19.0436070826)  19.043607  -98.194856   \n",
              "387   SRID=4326;POINT(-98.1945033093 19.043335537)  19.043336  -98.194503   \n",
              "388  SRID=4326;POINT(-98.1948728731 19.0435760418)  19.043576  -98.194873   \n",
              "389   SRID=4326;POINT(-98.1949010531 19.043589516)  19.043590  -98.194901   \n",
              "\n",
              "    arrival_of_the_freight_vehicle     plates  ... used_traffic_cone  \\\n",
              "0                            15:35     21TFP4  ...                no   \n",
              "1                            15:12     19TES7  ...                no   \n",
              "2                            13:50    Sm49187  ...                no   \n",
              "3                            16:46  TXK-799-A  ...                no   \n",
              "4                            12:38  SN-67-573  ...                no   \n",
              "..                             ...        ...  ...               ...   \n",
              "385                          10:36  HL-3785-F  ...                no   \n",
              "386                          10:33  SP-29-798  ...                no   \n",
              "387                          11:19   05-AP-6G  ...                no   \n",
              "388                          11:03  LE-88-707  ...                no   \n",
              "389                          11:00  HL-3785-F  ...                no   \n",
              "\n",
              "    vehicles_unloading_door number_of_available_trolleys  serving_customer  \\\n",
              "0                      Rear                            0               1.0   \n",
              "1                      Rear                            0               1.0   \n",
              "2                      Rear                            0               1.0   \n",
              "3                      Rear                            0               1.0   \n",
              "4                      Rear                            0               1.0   \n",
              "..                      ...                          ...               ...   \n",
              "385                    Rear                            0               1.0   \n",
              "386                    Side                            0               1.0   \n",
              "387                    Rear                            1               1.0   \n",
              "388                    Rear                            0               1.0   \n",
              "389                    Rear                            1               1.0   \n",
              "\n",
              "    garage_blocking accident describe_the_accident noise traffic_congestion  \\\n",
              "0                no       no                   NaN    no                 no   \n",
              "1                no       no                   NaN    no                 no   \n",
              "2                no       no                   NaN    no                yes   \n",
              "3                no       no                   NaN    no                yes   \n",
              "4                no       no                   NaN    no                 no   \n",
              "..              ...      ...                   ...   ...                ...   \n",
              "385              no       no                   NaN    no                 no   \n",
              "386              no       no                   NaN    no                 no   \n",
              "387              no       no                   NaN    no                 no   \n",
              "388              no       no                   NaN    no                 no   \n",
              "389              no       no                   NaN    no                 no   \n",
              "\n",
              "    maximum_number_of_vehicles_in_the_traffic_jam  \n",
              "0                                            25.0  \n",
              "1                                            25.0  \n",
              "2                                            25.0  \n",
              "3                                            25.0  \n",
              "4                                            25.0  \n",
              "..                                            ...  \n",
              "385                                           2.0  \n",
              "386                                           2.0  \n",
              "387                                           2.0  \n",
              "388                                           2.0  \n",
              "389                                           2.0  \n",
              "\n",
              "[390 rows x 30 columns]"
            ],
            "text/html": [
              "\n",
              "  <div id=\"df-a16f70b0-076c-4897-8dfa-4ba1a40020b2\">\n",
              "    <div class=\"colab-df-container\">\n",
              "      <div>\n",
              "<style scoped>\n",
              "    .dataframe tbody tr th:only-of-type {\n",
              "        vertical-align: middle;\n",
              "    }\n",
              "\n",
              "    .dataframe tbody tr th {\n",
              "        vertical-align: top;\n",
              "    }\n",
              "\n",
              "    .dataframe thead th {\n",
              "        text-align: right;\n",
              "    }\n",
              "</style>\n",
              "<table border=\"1\" class=\"dataframe\">\n",
              "  <thead>\n",
              "    <tr style=\"text-align: right;\">\n",
              "      <th></th>\n",
              "      <th>_record_id</th>\n",
              "      <th>_title</th>\n",
              "      <th>_server_updated_at</th>\n",
              "      <th>_created_by</th>\n",
              "      <th>_updated_by</th>\n",
              "      <th>_geometry</th>\n",
              "      <th>_latitude</th>\n",
              "      <th>_longitude</th>\n",
              "      <th>arrival_of_the_freight_vehicle</th>\n",
              "      <th>plates</th>\n",
              "      <th>...</th>\n",
              "      <th>used_traffic_cone</th>\n",
              "      <th>vehicles_unloading_door</th>\n",
              "      <th>number_of_available_trolleys</th>\n",
              "      <th>serving_customer</th>\n",
              "      <th>garage_blocking</th>\n",
              "      <th>accident</th>\n",
              "      <th>describe_the_accident</th>\n",
              "      <th>noise</th>\n",
              "      <th>traffic_congestion</th>\n",
              "      <th>maximum_number_of_vehicles_in_the_traffic_jam</th>\n",
              "    </tr>\n",
              "  </thead>\n",
              "  <tbody>\n",
              "    <tr>\n",
              "      <th>0</th>\n",
              "      <td>1e369271-598a-464c-aec7-1913e82dc2b7</td>\n",
              "      <td>78 Avenida Orión Sur\\nTlaxcalancingo Puebla 72...</td>\n",
              "      <td>2022-11-27 22:14:32 UTC</td>\n",
              "      <td>Adriel Antonio Huerta Vidal</td>\n",
              "      <td>Adriel Antonio Huerta Vidal</td>\n",
              "      <td>SRID=4326;POINT(-98.2603919 19.0213764)</td>\n",
              "      <td>19.021376</td>\n",
              "      <td>-98.260392</td>\n",
              "      <td>15:35</td>\n",
              "      <td>21TFP4</td>\n",
              "      <td>...</td>\n",
              "      <td>no</td>\n",
              "      <td>Rear</td>\n",
              "      <td>0</td>\n",
              "      <td>1.0</td>\n",
              "      <td>no</td>\n",
              "      <td>no</td>\n",
              "      <td>NaN</td>\n",
              "      <td>no</td>\n",
              "      <td>no</td>\n",
              "      <td>25.0</td>\n",
              "    </tr>\n",
              "    <tr>\n",
              "      <th>1</th>\n",
              "      <td>4a749c00-7c5f-45cf-8950-aa988a0d41b8</td>\n",
              "      <td>581 Avenida Orión Sur\\nTlaxcalancingo Puebla 7...</td>\n",
              "      <td>2022-11-27 22:14:31 UTC</td>\n",
              "      <td>Adriel Antonio Huerta Vidal</td>\n",
              "      <td>Adriel Antonio Huerta Vidal</td>\n",
              "      <td>SRID=4326;POINT(-98.2605677 19.0211113)</td>\n",
              "      <td>19.021111</td>\n",
              "      <td>-98.260568</td>\n",
              "      <td>15:12</td>\n",
              "      <td>19TES7</td>\n",
              "      <td>...</td>\n",
              "      <td>no</td>\n",
              "      <td>Rear</td>\n",
              "      <td>0</td>\n",
              "      <td>1.0</td>\n",
              "      <td>no</td>\n",
              "      <td>no</td>\n",
              "      <td>NaN</td>\n",
              "      <td>no</td>\n",
              "      <td>no</td>\n",
              "      <td>25.0</td>\n",
              "    </tr>\n",
              "    <tr>\n",
              "      <th>2</th>\n",
              "      <td>c58a450d-fe1f-4a16-a8d8-764ebd8c49a4</td>\n",
              "      <td>4483 Calle Camino Real a Cholula\\nSan Bernardi...</td>\n",
              "      <td>2022-11-27 20:12:39 UTC</td>\n",
              "      <td>María Pedraza</td>\n",
              "      <td>María Pedraza</td>\n",
              "      <td>SRID=4326;POINT(-98.2670348883 19.0352214575)</td>\n",
              "      <td>19.035221</td>\n",
              "      <td>-98.267035</td>\n",
              "      <td>13:50</td>\n",
              "      <td>Sm49187</td>\n",
              "      <td>...</td>\n",
              "      <td>no</td>\n",
              "      <td>Rear</td>\n",
              "      <td>0</td>\n",
              "      <td>1.0</td>\n",
              "      <td>no</td>\n",
              "      <td>no</td>\n",
              "      <td>NaN</td>\n",
              "      <td>no</td>\n",
              "      <td>yes</td>\n",
              "      <td>25.0</td>\n",
              "    </tr>\n",
              "    <tr>\n",
              "      <th>3</th>\n",
              "      <td>1a337726-bb21-4316-b3e7-f0bb4acea77e</td>\n",
              "      <td>Cholula de Rivadavia PUE 72768\\nMX</td>\n",
              "      <td>2022-11-27 08:18:55 UTC</td>\n",
              "      <td>Saúl Cuervo</td>\n",
              "      <td>Saúl Cuervo</td>\n",
              "      <td>SRID=4326;POINT(-98.2985606801 19.0817899522)</td>\n",
              "      <td>19.081790</td>\n",
              "      <td>-98.298561</td>\n",
              "      <td>16:46</td>\n",
              "      <td>TXK-799-A</td>\n",
              "      <td>...</td>\n",
              "      <td>no</td>\n",
              "      <td>Rear</td>\n",
              "      <td>0</td>\n",
              "      <td>1.0</td>\n",
              "      <td>no</td>\n",
              "      <td>no</td>\n",
              "      <td>NaN</td>\n",
              "      <td>no</td>\n",
              "      <td>yes</td>\n",
              "      <td>25.0</td>\n",
              "    </tr>\n",
              "    <tr>\n",
              "      <th>4</th>\n",
              "      <td>97861280-d706-46da-b345-a6dc7bc627c4</td>\n",
              "      <td>Cholula de Rivadavia PUE 72768\\nMX</td>\n",
              "      <td>2022-11-27 08:18:54 UTC</td>\n",
              "      <td>Saúl Cuervo</td>\n",
              "      <td>Saúl Cuervo</td>\n",
              "      <td>SRID=4326;POINT(-98.2985890313 19.0817705579)</td>\n",
              "      <td>19.081771</td>\n",
              "      <td>-98.298589</td>\n",
              "      <td>12:38</td>\n",
              "      <td>SN-67-573</td>\n",
              "      <td>...</td>\n",
              "      <td>no</td>\n",
              "      <td>Rear</td>\n",
              "      <td>0</td>\n",
              "      <td>1.0</td>\n",
              "      <td>no</td>\n",
              "      <td>no</td>\n",
              "      <td>NaN</td>\n",
              "      <td>no</td>\n",
              "      <td>no</td>\n",
              "      <td>25.0</td>\n",
              "    </tr>\n",
              "    <tr>\n",
              "      <th>...</th>\n",
              "      <td>...</td>\n",
              "      <td>...</td>\n",
              "      <td>...</td>\n",
              "      <td>...</td>\n",
              "      <td>...</td>\n",
              "      <td>...</td>\n",
              "      <td>...</td>\n",
              "      <td>...</td>\n",
              "      <td>...</td>\n",
              "      <td>...</td>\n",
              "      <td>...</td>\n",
              "      <td>...</td>\n",
              "      <td>...</td>\n",
              "      <td>...</td>\n",
              "      <td>...</td>\n",
              "      <td>...</td>\n",
              "      <td>...</td>\n",
              "      <td>...</td>\n",
              "      <td>...</td>\n",
              "      <td>...</td>\n",
              "      <td>...</td>\n",
              "    </tr>\n",
              "    <tr>\n",
              "      <th>385</th>\n",
              "      <td>f964004e-67a0-4b75-b2b0-ce04b9f0b344</td>\n",
              "      <td>406-B Avenida 2 Oriente\\nPuebla PUE 72000\\nMX</td>\n",
              "      <td>2022-11-03 17:54:56 UTC</td>\n",
              "      <td>José Oropeza</td>\n",
              "      <td>José Oropeza</td>\n",
              "      <td>SRID=4326;POINT(-98.194933077 19.043612116)</td>\n",
              "      <td>19.043612</td>\n",
              "      <td>-98.194933</td>\n",
              "      <td>10:36</td>\n",
              "      <td>HL-3785-F</td>\n",
              "      <td>...</td>\n",
              "      <td>no</td>\n",
              "      <td>Rear</td>\n",
              "      <td>0</td>\n",
              "      <td>1.0</td>\n",
              "      <td>no</td>\n",
              "      <td>no</td>\n",
              "      <td>NaN</td>\n",
              "      <td>no</td>\n",
              "      <td>no</td>\n",
              "      <td>2.0</td>\n",
              "    </tr>\n",
              "    <tr>\n",
              "      <th>386</th>\n",
              "      <td>5656a189-19f5-45a7-b53b-1a3db0de6571</td>\n",
              "      <td>406-B Avenida 2 Oriente\\nPuebla PUE 72000\\nMX</td>\n",
              "      <td>2022-11-03 17:54:56 UTC</td>\n",
              "      <td>José Oropeza</td>\n",
              "      <td>José Oropeza</td>\n",
              "      <td>SRID=4326;POINT(-98.1948560508 19.0436070826)</td>\n",
              "      <td>19.043607</td>\n",
              "      <td>-98.194856</td>\n",
              "      <td>10:33</td>\n",
              "      <td>SP-29-798</td>\n",
              "      <td>...</td>\n",
              "      <td>no</td>\n",
              "      <td>Side</td>\n",
              "      <td>0</td>\n",
              "      <td>1.0</td>\n",
              "      <td>no</td>\n",
              "      <td>no</td>\n",
              "      <td>NaN</td>\n",
              "      <td>no</td>\n",
              "      <td>no</td>\n",
              "      <td>2.0</td>\n",
              "    </tr>\n",
              "    <tr>\n",
              "      <th>387</th>\n",
              "      <td>bcbd462b-4c63-490b-bfec-0ef6657ead73</td>\n",
              "      <td>406-B Avenida 2 Oriente\\nPuebla PUE 72000\\nMX</td>\n",
              "      <td>2022-11-03 17:54:44 UTC</td>\n",
              "      <td>Emilio Garza</td>\n",
              "      <td>Emilio Garza</td>\n",
              "      <td>SRID=4326;POINT(-98.1945033093 19.043335537)</td>\n",
              "      <td>19.043336</td>\n",
              "      <td>-98.194503</td>\n",
              "      <td>11:19</td>\n",
              "      <td>05-AP-6G</td>\n",
              "      <td>...</td>\n",
              "      <td>no</td>\n",
              "      <td>Rear</td>\n",
              "      <td>1</td>\n",
              "      <td>1.0</td>\n",
              "      <td>no</td>\n",
              "      <td>no</td>\n",
              "      <td>NaN</td>\n",
              "      <td>no</td>\n",
              "      <td>no</td>\n",
              "      <td>2.0</td>\n",
              "    </tr>\n",
              "    <tr>\n",
              "      <th>388</th>\n",
              "      <td>cd9ba76d-d899-4d87-9512-486aedb1b149</td>\n",
              "      <td>402E Avenida 2 Oriente\\nPuebla PUE 72000\\nMX</td>\n",
              "      <td>2022-11-03 17:14:09 UTC</td>\n",
              "      <td>Emilio Garza</td>\n",
              "      <td>Emilio Garza</td>\n",
              "      <td>SRID=4326;POINT(-98.1948728731 19.0435760418)</td>\n",
              "      <td>19.043576</td>\n",
              "      <td>-98.194873</td>\n",
              "      <td>11:03</td>\n",
              "      <td>LE-88-707</td>\n",
              "      <td>...</td>\n",
              "      <td>no</td>\n",
              "      <td>Rear</td>\n",
              "      <td>0</td>\n",
              "      <td>1.0</td>\n",
              "      <td>no</td>\n",
              "      <td>no</td>\n",
              "      <td>NaN</td>\n",
              "      <td>no</td>\n",
              "      <td>no</td>\n",
              "      <td>2.0</td>\n",
              "    </tr>\n",
              "    <tr>\n",
              "      <th>389</th>\n",
              "      <td>657541f6-7871-4165-80b2-bef59db83e18</td>\n",
              "      <td>402 Avenida 2 Oriente\\nPuebla PUE 72000\\nMX</td>\n",
              "      <td>2022-11-03 17:14:09 UTC</td>\n",
              "      <td>Emilio Garza</td>\n",
              "      <td>Emilio Garza</td>\n",
              "      <td>SRID=4326;POINT(-98.1949010531 19.043589516)</td>\n",
              "      <td>19.043590</td>\n",
              "      <td>-98.194901</td>\n",
              "      <td>11:00</td>\n",
              "      <td>HL-3785-F</td>\n",
              "      <td>...</td>\n",
              "      <td>no</td>\n",
              "      <td>Rear</td>\n",
              "      <td>1</td>\n",
              "      <td>1.0</td>\n",
              "      <td>no</td>\n",
              "      <td>no</td>\n",
              "      <td>NaN</td>\n",
              "      <td>no</td>\n",
              "      <td>no</td>\n",
              "      <td>2.0</td>\n",
              "    </tr>\n",
              "  </tbody>\n",
              "</table>\n",
              "<p>390 rows × 30 columns</p>\n",
              "</div>\n",
              "      <button class=\"colab-df-convert\" onclick=\"convertToInteractive('df-a16f70b0-076c-4897-8dfa-4ba1a40020b2')\"\n",
              "              title=\"Convert this dataframe to an interactive table.\"\n",
              "              style=\"display:none;\">\n",
              "        \n",
              "  <svg xmlns=\"http://www.w3.org/2000/svg\" height=\"24px\"viewBox=\"0 0 24 24\"\n",
              "       width=\"24px\">\n",
              "    <path d=\"M0 0h24v24H0V0z\" fill=\"none\"/>\n",
              "    <path d=\"M18.56 5.44l.94 2.06.94-2.06 2.06-.94-2.06-.94-.94-2.06-.94 2.06-2.06.94zm-11 1L8.5 8.5l.94-2.06 2.06-.94-2.06-.94L8.5 2.5l-.94 2.06-2.06.94zm10 10l.94 2.06.94-2.06 2.06-.94-2.06-.94-.94-2.06-.94 2.06-2.06.94z\"/><path d=\"M17.41 7.96l-1.37-1.37c-.4-.4-.92-.59-1.43-.59-.52 0-1.04.2-1.43.59L10.3 9.45l-7.72 7.72c-.78.78-.78 2.05 0 2.83L4 21.41c.39.39.9.59 1.41.59.51 0 1.02-.2 1.41-.59l7.78-7.78 2.81-2.81c.8-.78.8-2.07 0-2.86zM5.41 20L4 18.59l7.72-7.72 1.47 1.35L5.41 20z\"/>\n",
              "  </svg>\n",
              "      </button>\n",
              "      \n",
              "  <style>\n",
              "    .colab-df-container {\n",
              "      display:flex;\n",
              "      flex-wrap:wrap;\n",
              "      gap: 12px;\n",
              "    }\n",
              "\n",
              "    .colab-df-convert {\n",
              "      background-color: #E8F0FE;\n",
              "      border: none;\n",
              "      border-radius: 50%;\n",
              "      cursor: pointer;\n",
              "      display: none;\n",
              "      fill: #1967D2;\n",
              "      height: 32px;\n",
              "      padding: 0 0 0 0;\n",
              "      width: 32px;\n",
              "    }\n",
              "\n",
              "    .colab-df-convert:hover {\n",
              "      background-color: #E2EBFA;\n",
              "      box-shadow: 0px 1px 2px rgba(60, 64, 67, 0.3), 0px 1px 3px 1px rgba(60, 64, 67, 0.15);\n",
              "      fill: #174EA6;\n",
              "    }\n",
              "\n",
              "    [theme=dark] .colab-df-convert {\n",
              "      background-color: #3B4455;\n",
              "      fill: #D2E3FC;\n",
              "    }\n",
              "\n",
              "    [theme=dark] .colab-df-convert:hover {\n",
              "      background-color: #434B5C;\n",
              "      box-shadow: 0px 1px 3px 1px rgba(0, 0, 0, 0.15);\n",
              "      filter: drop-shadow(0px 1px 2px rgba(0, 0, 0, 0.3));\n",
              "      fill: #FFFFFF;\n",
              "    }\n",
              "  </style>\n",
              "\n",
              "      <script>\n",
              "        const buttonEl =\n",
              "          document.querySelector('#df-a16f70b0-076c-4897-8dfa-4ba1a40020b2 button.colab-df-convert');\n",
              "        buttonEl.style.display =\n",
              "          google.colab.kernel.accessAllowed ? 'block' : 'none';\n",
              "\n",
              "        async function convertToInteractive(key) {\n",
              "          const element = document.querySelector('#df-a16f70b0-076c-4897-8dfa-4ba1a40020b2');\n",
              "          const dataTable =\n",
              "            await google.colab.kernel.invokeFunction('convertToInteractive',\n",
              "                                                     [key], {});\n",
              "          if (!dataTable) return;\n",
              "\n",
              "          const docLinkHtml = 'Like what you see? Visit the ' +\n",
              "            '<a target=\"_blank\" href=https://colab.research.google.com/notebooks/data_table.ipynb>data table notebook</a>'\n",
              "            + ' to learn more about interactive tables.';\n",
              "          element.innerHTML = '';\n",
              "          dataTable['output_type'] = 'display_data';\n",
              "          await google.colab.output.renderOutput(dataTable, element);\n",
              "          const docLink = document.createElement('div');\n",
              "          docLink.innerHTML = docLinkHtml;\n",
              "          element.appendChild(docLink);\n",
              "        }\n",
              "      </script>\n",
              "    </div>\n",
              "  </div>\n",
              "  "
            ]
          },
          "metadata": {},
          "execution_count": 10
        }
      ]
    },
    {
      "cell_type": "code",
      "source": [
        "#corroboramos valores nulos\n",
        "valores_nulos=data2_lastmile.isnull().sum()\n",
        "valores_nulos"
      ],
      "metadata": {
        "colab": {
          "base_uri": "https://localhost:8080/"
        },
        "id": "aD4kArByv4yf",
        "outputId": "c273c9fe-e50d-408c-ecbc-2120875bc59e"
      },
      "execution_count": 11,
      "outputs": [
        {
          "output_type": "execute_result",
          "data": {
            "text/plain": [
              "_record_id                                         0\n",
              "_title                                             0\n",
              "_server_updated_at                                 0\n",
              "_created_by                                        0\n",
              "_updated_by                                        0\n",
              "_geometry                                          0\n",
              "_latitude                                          0\n",
              "_longitude                                         0\n",
              "arrival_of_the_freight_vehicle                     0\n",
              "plates                                             0\n",
              "company_if_visible                                 0\n",
              "visit_purpose                                      0\n",
              "type_of_vehicle                                    0\n",
              "number_of_operators                                0\n",
              "refrigerated_truck                                 0\n",
              "type_of_cargo                                      0\n",
              "picture_of_the_parked_freight_vehicle              0\n",
              "departure_of_the_freight_vehicle                   0\n",
              "where_was_the_vehicle_parked                       0\n",
              "while_parked_was_the_engine_running                0\n",
              "used_traffic_cone                                  0\n",
              "vehicles_unloading_door                            0\n",
              "number_of_available_trolleys                       0\n",
              "serving_customer                                   0\n",
              "garage_blocking                                    0\n",
              "accident                                           0\n",
              "describe_the_accident                            390\n",
              "noise                                              0\n",
              "traffic_congestion                                 0\n",
              "maximum_number_of_vehicles_in_the_traffic_jam      0\n",
              "dtype: int64"
            ]
          },
          "metadata": {},
          "execution_count": 11
        }
      ]
    },
    {
      "cell_type": "code",
      "source": [
        "#corroboramos valores nulos\n",
        "valores_nulos=data2_lastmile.isnull().sum().sum()\n",
        "valores_nulos"
      ],
      "metadata": {
        "colab": {
          "base_uri": "https://localhost:8080/"
        },
        "id": "VnwmlP_Vw5hx",
        "outputId": "d24740e3-9bc1-40c4-af02-cafe002dc098"
      },
      "execution_count": 12,
      "outputs": [
        {
          "output_type": "execute_result",
          "data": {
            "text/plain": [
              "390"
            ]
          },
          "metadata": {},
          "execution_count": 12
        }
      ]
    },
    {
      "cell_type": "code",
      "source": [
        "data2_lastmile.info(1)"
      ],
      "metadata": {
        "colab": {
          "base_uri": "https://localhost:8080/"
        },
        "id": "-qDe8nyrxErF",
        "outputId": "e813ff28-5c44-409f-dac3-05c7bbb3f777"
      },
      "execution_count": 16,
      "outputs": [
        {
          "output_type": "stream",
          "name": "stdout",
          "text": [
            "<class 'pandas.core.frame.DataFrame'>\n",
            "RangeIndex: 390 entries, 0 to 389\n",
            "Data columns (total 30 columns):\n",
            " #   Column                                         Non-Null Count  Dtype  \n",
            "---  ------                                         --------------  -----  \n",
            " 0   _record_id                                     390 non-null    object \n",
            " 1   _title                                         390 non-null    object \n",
            " 2   _server_updated_at                             390 non-null    object \n",
            " 3   _created_by                                    390 non-null    object \n",
            " 4   _updated_by                                    390 non-null    object \n",
            " 5   _geometry                                      390 non-null    object \n",
            " 6   _latitude                                      390 non-null    float64\n",
            " 7   _longitude                                     390 non-null    float64\n",
            " 8   arrival_of_the_freight_vehicle                 390 non-null    object \n",
            " 9   plates                                         390 non-null    object \n",
            " 10  company_if_visible                             390 non-null    object \n",
            " 11  visit_purpose                                  390 non-null    object \n",
            " 12  type_of_vehicle                                390 non-null    object \n",
            " 13  number_of_operators                            390 non-null    int64  \n",
            " 14  refrigerated_truck                             390 non-null    object \n",
            " 15  type_of_cargo                                  390 non-null    object \n",
            " 16  picture_of_the_parked_freight_vehicle          390 non-null    object \n",
            " 17  departure_of_the_freight_vehicle               390 non-null    object \n",
            " 18  where_was_the_vehicle_parked                   390 non-null    object \n",
            " 19  while_parked_was_the_engine_running            390 non-null    object \n",
            " 20  used_traffic_cone                              390 non-null    object \n",
            " 21  vehicles_unloading_door                        390 non-null    object \n",
            " 22  number_of_available_trolleys                   390 non-null    int64  \n",
            " 23  serving_customer                               390 non-null    float64\n",
            " 24  garage_blocking                                390 non-null    object \n",
            " 25  accident                                       390 non-null    object \n",
            " 26  describe_the_accident                          0 non-null      float64\n",
            " 27  noise                                          390 non-null    object \n",
            " 28  traffic_congestion                             390 non-null    object \n",
            " 29  maximum_number_of_vehicles_in_the_traffic_jam  390 non-null    float64\n",
            "dtypes: float64(5), int64(2), object(23)\n",
            "memory usage: 91.5+ KB\n"
          ]
        }
      ]
    },
    {
      "cell_type": "code",
      "source": [
        "data2_lastmile= data2_lastmile.drop([\"describe_the_accident\"],axis=1)\n",
        "data2_lastmile"
      ],
      "metadata": {
        "id": "oQ6-sVQXwvuH"
      },
      "execution_count": null,
      "outputs": []
    },
    {
      "cell_type": "code",
      "source": [
        "#corroboramos valores nulos\n",
        "valores_nulos=data2_lastmile.isnull().sum().sum()\n",
        "valores_nulos"
      ],
      "metadata": {
        "colab": {
          "base_uri": "https://localhost:8080/"
        },
        "id": "tuPez-Mfw4b-",
        "outputId": "c68817a1-9d4f-4e42-9b53-063a930a54f4"
      },
      "execution_count": 23,
      "outputs": [
        {
          "output_type": "execute_result",
          "data": {
            "text/plain": [
              "0"
            ]
          },
          "metadata": {},
          "execution_count": 23
        }
      ]
    },
    {
      "cell_type": "code",
      "source": [
        "#Filtro por columnas (Usamos solo las columnas de variables cuantitativas)\n",
        "filtro_columnas_necesarias=data2_lastmile.iloc[ : , [6,7,13,22,23,28]] \n",
        "filtro_columnas_necesarias"
      ],
      "metadata": {
        "id": "CBVZMLlBxee6",
        "colab": {
          "base_uri": "https://localhost:8080/",
          "height": 424
        },
        "outputId": "974eb3ef-36aa-467b-c5c6-9d7641018c6d"
      },
      "execution_count": 30,
      "outputs": [
        {
          "output_type": "execute_result",
          "data": {
            "text/plain": [
              "     _latitude  _longitude  number_of_operators  number_of_available_trolleys  \\\n",
              "0    19.021376  -98.260392                    1                             0   \n",
              "1    19.021111  -98.260568                    1                             0   \n",
              "2    19.035221  -98.267035                    2                             0   \n",
              "3    19.081790  -98.298561                    2                             0   \n",
              "4    19.081771  -98.298589                    1                             0   \n",
              "..         ...         ...                  ...                           ...   \n",
              "385  19.043612  -98.194933                    1                             0   \n",
              "386  19.043607  -98.194856                    1                             0   \n",
              "387  19.043336  -98.194503                    1                             1   \n",
              "388  19.043576  -98.194873                    2                             0   \n",
              "389  19.043590  -98.194901                    2                             1   \n",
              "\n",
              "     serving_customer  maximum_number_of_vehicles_in_the_traffic_jam  \n",
              "0                 1.0                                           25.0  \n",
              "1                 1.0                                           25.0  \n",
              "2                 1.0                                           25.0  \n",
              "3                 1.0                                           25.0  \n",
              "4                 1.0                                           25.0  \n",
              "..                ...                                            ...  \n",
              "385               1.0                                            2.0  \n",
              "386               1.0                                            2.0  \n",
              "387               1.0                                            2.0  \n",
              "388               1.0                                            2.0  \n",
              "389               1.0                                            2.0  \n",
              "\n",
              "[390 rows x 6 columns]"
            ],
            "text/html": [
              "\n",
              "  <div id=\"df-491f3a1b-3bbf-4751-ac0e-d105f198501c\">\n",
              "    <div class=\"colab-df-container\">\n",
              "      <div>\n",
              "<style scoped>\n",
              "    .dataframe tbody tr th:only-of-type {\n",
              "        vertical-align: middle;\n",
              "    }\n",
              "\n",
              "    .dataframe tbody tr th {\n",
              "        vertical-align: top;\n",
              "    }\n",
              "\n",
              "    .dataframe thead th {\n",
              "        text-align: right;\n",
              "    }\n",
              "</style>\n",
              "<table border=\"1\" class=\"dataframe\">\n",
              "  <thead>\n",
              "    <tr style=\"text-align: right;\">\n",
              "      <th></th>\n",
              "      <th>_latitude</th>\n",
              "      <th>_longitude</th>\n",
              "      <th>number_of_operators</th>\n",
              "      <th>number_of_available_trolleys</th>\n",
              "      <th>serving_customer</th>\n",
              "      <th>maximum_number_of_vehicles_in_the_traffic_jam</th>\n",
              "    </tr>\n",
              "  </thead>\n",
              "  <tbody>\n",
              "    <tr>\n",
              "      <th>0</th>\n",
              "      <td>19.021376</td>\n",
              "      <td>-98.260392</td>\n",
              "      <td>1</td>\n",
              "      <td>0</td>\n",
              "      <td>1.0</td>\n",
              "      <td>25.0</td>\n",
              "    </tr>\n",
              "    <tr>\n",
              "      <th>1</th>\n",
              "      <td>19.021111</td>\n",
              "      <td>-98.260568</td>\n",
              "      <td>1</td>\n",
              "      <td>0</td>\n",
              "      <td>1.0</td>\n",
              "      <td>25.0</td>\n",
              "    </tr>\n",
              "    <tr>\n",
              "      <th>2</th>\n",
              "      <td>19.035221</td>\n",
              "      <td>-98.267035</td>\n",
              "      <td>2</td>\n",
              "      <td>0</td>\n",
              "      <td>1.0</td>\n",
              "      <td>25.0</td>\n",
              "    </tr>\n",
              "    <tr>\n",
              "      <th>3</th>\n",
              "      <td>19.081790</td>\n",
              "      <td>-98.298561</td>\n",
              "      <td>2</td>\n",
              "      <td>0</td>\n",
              "      <td>1.0</td>\n",
              "      <td>25.0</td>\n",
              "    </tr>\n",
              "    <tr>\n",
              "      <th>4</th>\n",
              "      <td>19.081771</td>\n",
              "      <td>-98.298589</td>\n",
              "      <td>1</td>\n",
              "      <td>0</td>\n",
              "      <td>1.0</td>\n",
              "      <td>25.0</td>\n",
              "    </tr>\n",
              "    <tr>\n",
              "      <th>...</th>\n",
              "      <td>...</td>\n",
              "      <td>...</td>\n",
              "      <td>...</td>\n",
              "      <td>...</td>\n",
              "      <td>...</td>\n",
              "      <td>...</td>\n",
              "    </tr>\n",
              "    <tr>\n",
              "      <th>385</th>\n",
              "      <td>19.043612</td>\n",
              "      <td>-98.194933</td>\n",
              "      <td>1</td>\n",
              "      <td>0</td>\n",
              "      <td>1.0</td>\n",
              "      <td>2.0</td>\n",
              "    </tr>\n",
              "    <tr>\n",
              "      <th>386</th>\n",
              "      <td>19.043607</td>\n",
              "      <td>-98.194856</td>\n",
              "      <td>1</td>\n",
              "      <td>0</td>\n",
              "      <td>1.0</td>\n",
              "      <td>2.0</td>\n",
              "    </tr>\n",
              "    <tr>\n",
              "      <th>387</th>\n",
              "      <td>19.043336</td>\n",
              "      <td>-98.194503</td>\n",
              "      <td>1</td>\n",
              "      <td>1</td>\n",
              "      <td>1.0</td>\n",
              "      <td>2.0</td>\n",
              "    </tr>\n",
              "    <tr>\n",
              "      <th>388</th>\n",
              "      <td>19.043576</td>\n",
              "      <td>-98.194873</td>\n",
              "      <td>2</td>\n",
              "      <td>0</td>\n",
              "      <td>1.0</td>\n",
              "      <td>2.0</td>\n",
              "    </tr>\n",
              "    <tr>\n",
              "      <th>389</th>\n",
              "      <td>19.043590</td>\n",
              "      <td>-98.194901</td>\n",
              "      <td>2</td>\n",
              "      <td>1</td>\n",
              "      <td>1.0</td>\n",
              "      <td>2.0</td>\n",
              "    </tr>\n",
              "  </tbody>\n",
              "</table>\n",
              "<p>390 rows × 6 columns</p>\n",
              "</div>\n",
              "      <button class=\"colab-df-convert\" onclick=\"convertToInteractive('df-491f3a1b-3bbf-4751-ac0e-d105f198501c')\"\n",
              "              title=\"Convert this dataframe to an interactive table.\"\n",
              "              style=\"display:none;\">\n",
              "        \n",
              "  <svg xmlns=\"http://www.w3.org/2000/svg\" height=\"24px\"viewBox=\"0 0 24 24\"\n",
              "       width=\"24px\">\n",
              "    <path d=\"M0 0h24v24H0V0z\" fill=\"none\"/>\n",
              "    <path d=\"M18.56 5.44l.94 2.06.94-2.06 2.06-.94-2.06-.94-.94-2.06-.94 2.06-2.06.94zm-11 1L8.5 8.5l.94-2.06 2.06-.94-2.06-.94L8.5 2.5l-.94 2.06-2.06.94zm10 10l.94 2.06.94-2.06 2.06-.94-2.06-.94-.94-2.06-.94 2.06-2.06.94z\"/><path d=\"M17.41 7.96l-1.37-1.37c-.4-.4-.92-.59-1.43-.59-.52 0-1.04.2-1.43.59L10.3 9.45l-7.72 7.72c-.78.78-.78 2.05 0 2.83L4 21.41c.39.39.9.59 1.41.59.51 0 1.02-.2 1.41-.59l7.78-7.78 2.81-2.81c.8-.78.8-2.07 0-2.86zM5.41 20L4 18.59l7.72-7.72 1.47 1.35L5.41 20z\"/>\n",
              "  </svg>\n",
              "      </button>\n",
              "      \n",
              "  <style>\n",
              "    .colab-df-container {\n",
              "      display:flex;\n",
              "      flex-wrap:wrap;\n",
              "      gap: 12px;\n",
              "    }\n",
              "\n",
              "    .colab-df-convert {\n",
              "      background-color: #E8F0FE;\n",
              "      border: none;\n",
              "      border-radius: 50%;\n",
              "      cursor: pointer;\n",
              "      display: none;\n",
              "      fill: #1967D2;\n",
              "      height: 32px;\n",
              "      padding: 0 0 0 0;\n",
              "      width: 32px;\n",
              "    }\n",
              "\n",
              "    .colab-df-convert:hover {\n",
              "      background-color: #E2EBFA;\n",
              "      box-shadow: 0px 1px 2px rgba(60, 64, 67, 0.3), 0px 1px 3px 1px rgba(60, 64, 67, 0.15);\n",
              "      fill: #174EA6;\n",
              "    }\n",
              "\n",
              "    [theme=dark] .colab-df-convert {\n",
              "      background-color: #3B4455;\n",
              "      fill: #D2E3FC;\n",
              "    }\n",
              "\n",
              "    [theme=dark] .colab-df-convert:hover {\n",
              "      background-color: #434B5C;\n",
              "      box-shadow: 0px 1px 3px 1px rgba(0, 0, 0, 0.15);\n",
              "      filter: drop-shadow(0px 1px 2px rgba(0, 0, 0, 0.3));\n",
              "      fill: #FFFFFF;\n",
              "    }\n",
              "  </style>\n",
              "\n",
              "      <script>\n",
              "        const buttonEl =\n",
              "          document.querySelector('#df-491f3a1b-3bbf-4751-ac0e-d105f198501c button.colab-df-convert');\n",
              "        buttonEl.style.display =\n",
              "          google.colab.kernel.accessAllowed ? 'block' : 'none';\n",
              "\n",
              "        async function convertToInteractive(key) {\n",
              "          const element = document.querySelector('#df-491f3a1b-3bbf-4751-ac0e-d105f198501c');\n",
              "          const dataTable =\n",
              "            await google.colab.kernel.invokeFunction('convertToInteractive',\n",
              "                                                     [key], {});\n",
              "          if (!dataTable) return;\n",
              "\n",
              "          const docLinkHtml = 'Like what you see? Visit the ' +\n",
              "            '<a target=\"_blank\" href=https://colab.research.google.com/notebooks/data_table.ipynb>data table notebook</a>'\n",
              "            + ' to learn more about interactive tables.';\n",
              "          element.innerHTML = '';\n",
              "          dataTable['output_type'] = 'display_data';\n",
              "          await google.colab.output.renderOutput(dataTable, element);\n",
              "          const docLink = document.createElement('div');\n",
              "          docLink.innerHTML = docLinkHtml;\n",
              "          element.appendChild(docLink);\n",
              "        }\n",
              "      </script>\n",
              "    </div>\n",
              "  </div>\n",
              "  "
            ]
          },
          "metadata": {},
          "execution_count": 30
        }
      ]
    },
    {
      "cell_type": "code",
      "source": [
        "filtro_columnas_necesarias.info()"
      ],
      "metadata": {
        "colab": {
          "base_uri": "https://localhost:8080/"
        },
        "id": "NDM6Inv7xOVO",
        "outputId": "785c6054-db52-4eaf-fb39-8394d54e52c4"
      },
      "execution_count": 31,
      "outputs": [
        {
          "output_type": "stream",
          "name": "stdout",
          "text": [
            "<class 'pandas.core.frame.DataFrame'>\n",
            "RangeIndex: 390 entries, 0 to 389\n",
            "Data columns (total 6 columns):\n",
            " #   Column                                         Non-Null Count  Dtype  \n",
            "---  ------                                         --------------  -----  \n",
            " 0   _latitude                                      390 non-null    float64\n",
            " 1   _longitude                                     390 non-null    float64\n",
            " 2   number_of_operators                            390 non-null    int64  \n",
            " 3   number_of_available_trolleys                   390 non-null    int64  \n",
            " 4   serving_customer                               390 non-null    float64\n",
            " 5   maximum_number_of_vehicles_in_the_traffic_jam  390 non-null    float64\n",
            "dtypes: float64(4), int64(2)\n",
            "memory usage: 18.4 KB\n"
          ]
        }
      ]
    },
    {
      "cell_type": "code",
      "source": [
        "#Método aplicando cuartiles Encuentro cuartiles de 0.25 y 0.75\n",
        "y=filtro_columnas_necesarias\n",
        "percentile25=y.quantile(0.25) #Q1\n",
        "percentile75=y.quantile(0.75) #Q3\n",
        "iqr= percentile75 - percentile25\n",
        "\n",
        "Limite_Superior_iqr= percentile75 + 1.5*iqr\n",
        "Limite_Inferior_iqr= percentile25 - 1.5*iqr\n",
        "print(\"Limite superior permitido\", Limite_Superior_iqr)\n",
        "print(\"Limite inferior permitido\", Limite_Inferior_iqr)"
      ],
      "metadata": {
        "colab": {
          "base_uri": "https://localhost:8080/"
        },
        "id": "QWrF2g5OxZ6z",
        "outputId": "d2ef1ff7-283e-4712-917a-f93a4dd109da"
      },
      "execution_count": 32,
      "outputs": [
        {
          "output_type": "stream",
          "name": "stdout",
          "text": [
            "Limite superior permitido _latitude                                        19.101536\n",
            "_longitude                                      -98.146671\n",
            "number_of_operators                               3.500000\n",
            "number_of_available_trolleys                      2.500000\n",
            "serving_customer                                  1.000000\n",
            "maximum_number_of_vehicles_in_the_traffic_jam    59.500000\n",
            "dtype: float64\n",
            "Limite inferior permitido _latitude                                        18.970004\n",
            "_longitude                                      -98.330490\n",
            "number_of_operators                              -0.500000\n",
            "number_of_available_trolleys                     -1.500000\n",
            "serving_customer                                  1.000000\n",
            "maximum_number_of_vehicles_in_the_traffic_jam   -32.500000\n",
            "dtype: float64\n"
          ]
        }
      ]
    },
    {
      "cell_type": "code",
      "source": [
        "#Encontramos Outliers del dataframe \n",
        "outliers_iqr_Micro_retailer=y[(y>Limite_Superior_iqr)|(y<Limite_Inferior_iqr)]\n",
        "outliers_iqr_Micro_retailer"
      ],
      "metadata": {
        "colab": {
          "base_uri": "https://localhost:8080/",
          "height": 424
        },
        "id": "MZkPtgQyxjCc",
        "outputId": "13342170-86fe-4431-c755-7879edba097d"
      },
      "execution_count": 33,
      "outputs": [
        {
          "output_type": "execute_result",
          "data": {
            "text/plain": [
              "     _latitude  _longitude  number_of_operators  number_of_available_trolleys  \\\n",
              "0          NaN         NaN                  NaN                           NaN   \n",
              "1          NaN         NaN                  NaN                           NaN   \n",
              "2          NaN         NaN                  NaN                           NaN   \n",
              "3          NaN         NaN                  NaN                           NaN   \n",
              "4          NaN         NaN                  NaN                           NaN   \n",
              "..         ...         ...                  ...                           ...   \n",
              "385        NaN         NaN                  NaN                           NaN   \n",
              "386        NaN         NaN                  NaN                           NaN   \n",
              "387        NaN         NaN                  NaN                           NaN   \n",
              "388        NaN         NaN                  NaN                           NaN   \n",
              "389        NaN         NaN                  NaN                           NaN   \n",
              "\n",
              "     serving_customer  maximum_number_of_vehicles_in_the_traffic_jam  \n",
              "0                 NaN                                            NaN  \n",
              "1                 NaN                                            NaN  \n",
              "2                 NaN                                            NaN  \n",
              "3                 NaN                                            NaN  \n",
              "4                 NaN                                            NaN  \n",
              "..                ...                                            ...  \n",
              "385               NaN                                            NaN  \n",
              "386               NaN                                            NaN  \n",
              "387               NaN                                            NaN  \n",
              "388               NaN                                            NaN  \n",
              "389               NaN                                            NaN  \n",
              "\n",
              "[390 rows x 6 columns]"
            ],
            "text/html": [
              "\n",
              "  <div id=\"df-cd272028-9619-47c1-a72f-d83c1c06beb5\">\n",
              "    <div class=\"colab-df-container\">\n",
              "      <div>\n",
              "<style scoped>\n",
              "    .dataframe tbody tr th:only-of-type {\n",
              "        vertical-align: middle;\n",
              "    }\n",
              "\n",
              "    .dataframe tbody tr th {\n",
              "        vertical-align: top;\n",
              "    }\n",
              "\n",
              "    .dataframe thead th {\n",
              "        text-align: right;\n",
              "    }\n",
              "</style>\n",
              "<table border=\"1\" class=\"dataframe\">\n",
              "  <thead>\n",
              "    <tr style=\"text-align: right;\">\n",
              "      <th></th>\n",
              "      <th>_latitude</th>\n",
              "      <th>_longitude</th>\n",
              "      <th>number_of_operators</th>\n",
              "      <th>number_of_available_trolleys</th>\n",
              "      <th>serving_customer</th>\n",
              "      <th>maximum_number_of_vehicles_in_the_traffic_jam</th>\n",
              "    </tr>\n",
              "  </thead>\n",
              "  <tbody>\n",
              "    <tr>\n",
              "      <th>0</th>\n",
              "      <td>NaN</td>\n",
              "      <td>NaN</td>\n",
              "      <td>NaN</td>\n",
              "      <td>NaN</td>\n",
              "      <td>NaN</td>\n",
              "      <td>NaN</td>\n",
              "    </tr>\n",
              "    <tr>\n",
              "      <th>1</th>\n",
              "      <td>NaN</td>\n",
              "      <td>NaN</td>\n",
              "      <td>NaN</td>\n",
              "      <td>NaN</td>\n",
              "      <td>NaN</td>\n",
              "      <td>NaN</td>\n",
              "    </tr>\n",
              "    <tr>\n",
              "      <th>2</th>\n",
              "      <td>NaN</td>\n",
              "      <td>NaN</td>\n",
              "      <td>NaN</td>\n",
              "      <td>NaN</td>\n",
              "      <td>NaN</td>\n",
              "      <td>NaN</td>\n",
              "    </tr>\n",
              "    <tr>\n",
              "      <th>3</th>\n",
              "      <td>NaN</td>\n",
              "      <td>NaN</td>\n",
              "      <td>NaN</td>\n",
              "      <td>NaN</td>\n",
              "      <td>NaN</td>\n",
              "      <td>NaN</td>\n",
              "    </tr>\n",
              "    <tr>\n",
              "      <th>4</th>\n",
              "      <td>NaN</td>\n",
              "      <td>NaN</td>\n",
              "      <td>NaN</td>\n",
              "      <td>NaN</td>\n",
              "      <td>NaN</td>\n",
              "      <td>NaN</td>\n",
              "    </tr>\n",
              "    <tr>\n",
              "      <th>...</th>\n",
              "      <td>...</td>\n",
              "      <td>...</td>\n",
              "      <td>...</td>\n",
              "      <td>...</td>\n",
              "      <td>...</td>\n",
              "      <td>...</td>\n",
              "    </tr>\n",
              "    <tr>\n",
              "      <th>385</th>\n",
              "      <td>NaN</td>\n",
              "      <td>NaN</td>\n",
              "      <td>NaN</td>\n",
              "      <td>NaN</td>\n",
              "      <td>NaN</td>\n",
              "      <td>NaN</td>\n",
              "    </tr>\n",
              "    <tr>\n",
              "      <th>386</th>\n",
              "      <td>NaN</td>\n",
              "      <td>NaN</td>\n",
              "      <td>NaN</td>\n",
              "      <td>NaN</td>\n",
              "      <td>NaN</td>\n",
              "      <td>NaN</td>\n",
              "    </tr>\n",
              "    <tr>\n",
              "      <th>387</th>\n",
              "      <td>NaN</td>\n",
              "      <td>NaN</td>\n",
              "      <td>NaN</td>\n",
              "      <td>NaN</td>\n",
              "      <td>NaN</td>\n",
              "      <td>NaN</td>\n",
              "    </tr>\n",
              "    <tr>\n",
              "      <th>388</th>\n",
              "      <td>NaN</td>\n",
              "      <td>NaN</td>\n",
              "      <td>NaN</td>\n",
              "      <td>NaN</td>\n",
              "      <td>NaN</td>\n",
              "      <td>NaN</td>\n",
              "    </tr>\n",
              "    <tr>\n",
              "      <th>389</th>\n",
              "      <td>NaN</td>\n",
              "      <td>NaN</td>\n",
              "      <td>NaN</td>\n",
              "      <td>NaN</td>\n",
              "      <td>NaN</td>\n",
              "      <td>NaN</td>\n",
              "    </tr>\n",
              "  </tbody>\n",
              "</table>\n",
              "<p>390 rows × 6 columns</p>\n",
              "</div>\n",
              "      <button class=\"colab-df-convert\" onclick=\"convertToInteractive('df-cd272028-9619-47c1-a72f-d83c1c06beb5')\"\n",
              "              title=\"Convert this dataframe to an interactive table.\"\n",
              "              style=\"display:none;\">\n",
              "        \n",
              "  <svg xmlns=\"http://www.w3.org/2000/svg\" height=\"24px\"viewBox=\"0 0 24 24\"\n",
              "       width=\"24px\">\n",
              "    <path d=\"M0 0h24v24H0V0z\" fill=\"none\"/>\n",
              "    <path d=\"M18.56 5.44l.94 2.06.94-2.06 2.06-.94-2.06-.94-.94-2.06-.94 2.06-2.06.94zm-11 1L8.5 8.5l.94-2.06 2.06-.94-2.06-.94L8.5 2.5l-.94 2.06-2.06.94zm10 10l.94 2.06.94-2.06 2.06-.94-2.06-.94-.94-2.06-.94 2.06-2.06.94z\"/><path d=\"M17.41 7.96l-1.37-1.37c-.4-.4-.92-.59-1.43-.59-.52 0-1.04.2-1.43.59L10.3 9.45l-7.72 7.72c-.78.78-.78 2.05 0 2.83L4 21.41c.39.39.9.59 1.41.59.51 0 1.02-.2 1.41-.59l7.78-7.78 2.81-2.81c.8-.78.8-2.07 0-2.86zM5.41 20L4 18.59l7.72-7.72 1.47 1.35L5.41 20z\"/>\n",
              "  </svg>\n",
              "      </button>\n",
              "      \n",
              "  <style>\n",
              "    .colab-df-container {\n",
              "      display:flex;\n",
              "      flex-wrap:wrap;\n",
              "      gap: 12px;\n",
              "    }\n",
              "\n",
              "    .colab-df-convert {\n",
              "      background-color: #E8F0FE;\n",
              "      border: none;\n",
              "      border-radius: 50%;\n",
              "      cursor: pointer;\n",
              "      display: none;\n",
              "      fill: #1967D2;\n",
              "      height: 32px;\n",
              "      padding: 0 0 0 0;\n",
              "      width: 32px;\n",
              "    }\n",
              "\n",
              "    .colab-df-convert:hover {\n",
              "      background-color: #E2EBFA;\n",
              "      box-shadow: 0px 1px 2px rgba(60, 64, 67, 0.3), 0px 1px 3px 1px rgba(60, 64, 67, 0.15);\n",
              "      fill: #174EA6;\n",
              "    }\n",
              "\n",
              "    [theme=dark] .colab-df-convert {\n",
              "      background-color: #3B4455;\n",
              "      fill: #D2E3FC;\n",
              "    }\n",
              "\n",
              "    [theme=dark] .colab-df-convert:hover {\n",
              "      background-color: #434B5C;\n",
              "      box-shadow: 0px 1px 3px 1px rgba(0, 0, 0, 0.15);\n",
              "      filter: drop-shadow(0px 1px 2px rgba(0, 0, 0, 0.3));\n",
              "      fill: #FFFFFF;\n",
              "    }\n",
              "  </style>\n",
              "\n",
              "      <script>\n",
              "        const buttonEl =\n",
              "          document.querySelector('#df-cd272028-9619-47c1-a72f-d83c1c06beb5 button.colab-df-convert');\n",
              "        buttonEl.style.display =\n",
              "          google.colab.kernel.accessAllowed ? 'block' : 'none';\n",
              "\n",
              "        async function convertToInteractive(key) {\n",
              "          const element = document.querySelector('#df-cd272028-9619-47c1-a72f-d83c1c06beb5');\n",
              "          const dataTable =\n",
              "            await google.colab.kernel.invokeFunction('convertToInteractive',\n",
              "                                                     [key], {});\n",
              "          if (!dataTable) return;\n",
              "\n",
              "          const docLinkHtml = 'Like what you see? Visit the ' +\n",
              "            '<a target=\"_blank\" href=https://colab.research.google.com/notebooks/data_table.ipynb>data table notebook</a>'\n",
              "            + ' to learn more about interactive tables.';\n",
              "          element.innerHTML = '';\n",
              "          dataTable['output_type'] = 'display_data';\n",
              "          await google.colab.output.renderOutput(dataTable, element);\n",
              "          const docLink = document.createElement('div');\n",
              "          docLink.innerHTML = docLinkHtml;\n",
              "          element.appendChild(docLink);\n",
              "        }\n",
              "      </script>\n",
              "    </div>\n",
              "  </div>\n",
              "  "
            ]
          },
          "metadata": {},
          "execution_count": 33
        }
      ]
    },
    {
      "cell_type": "code",
      "source": [
        "#Obtenemos datos limpios del dataframe\n",
        "data3_iqr_lastmile=y[(y<=Limite_Superior_iqr)&(y>=Limite_Inferior_iqr)]\n",
        "data3_iqr_lastmile"
      ],
      "metadata": {
        "colab": {
          "base_uri": "https://localhost:8080/",
          "height": 424
        },
        "id": "Sg5_eJLjxksx",
        "outputId": "14c08ba6-2409-4789-bf97-c5a0a76e841f"
      },
      "execution_count": 35,
      "outputs": [
        {
          "output_type": "execute_result",
          "data": {
            "text/plain": [
              "     _latitude  _longitude  number_of_operators  number_of_available_trolleys  \\\n",
              "0    19.021376  -98.260392                  1.0                           0.0   \n",
              "1    19.021111  -98.260568                  1.0                           0.0   \n",
              "2    19.035221  -98.267035                  2.0                           0.0   \n",
              "3    19.081790  -98.298561                  2.0                           0.0   \n",
              "4    19.081771  -98.298589                  1.0                           0.0   \n",
              "..         ...         ...                  ...                           ...   \n",
              "385  19.043612  -98.194933                  1.0                           0.0   \n",
              "386  19.043607  -98.194856                  1.0                           0.0   \n",
              "387  19.043336  -98.194503                  1.0                           1.0   \n",
              "388  19.043576  -98.194873                  2.0                           0.0   \n",
              "389  19.043590  -98.194901                  2.0                           1.0   \n",
              "\n",
              "     serving_customer  maximum_number_of_vehicles_in_the_traffic_jam  \n",
              "0                 1.0                                           25.0  \n",
              "1                 1.0                                           25.0  \n",
              "2                 1.0                                           25.0  \n",
              "3                 1.0                                           25.0  \n",
              "4                 1.0                                           25.0  \n",
              "..                ...                                            ...  \n",
              "385               1.0                                            2.0  \n",
              "386               1.0                                            2.0  \n",
              "387               1.0                                            2.0  \n",
              "388               1.0                                            2.0  \n",
              "389               1.0                                            2.0  \n",
              "\n",
              "[390 rows x 6 columns]"
            ],
            "text/html": [
              "\n",
              "  <div id=\"df-0665f56e-b320-42c1-a5c6-e125966b4bd1\">\n",
              "    <div class=\"colab-df-container\">\n",
              "      <div>\n",
              "<style scoped>\n",
              "    .dataframe tbody tr th:only-of-type {\n",
              "        vertical-align: middle;\n",
              "    }\n",
              "\n",
              "    .dataframe tbody tr th {\n",
              "        vertical-align: top;\n",
              "    }\n",
              "\n",
              "    .dataframe thead th {\n",
              "        text-align: right;\n",
              "    }\n",
              "</style>\n",
              "<table border=\"1\" class=\"dataframe\">\n",
              "  <thead>\n",
              "    <tr style=\"text-align: right;\">\n",
              "      <th></th>\n",
              "      <th>_latitude</th>\n",
              "      <th>_longitude</th>\n",
              "      <th>number_of_operators</th>\n",
              "      <th>number_of_available_trolleys</th>\n",
              "      <th>serving_customer</th>\n",
              "      <th>maximum_number_of_vehicles_in_the_traffic_jam</th>\n",
              "    </tr>\n",
              "  </thead>\n",
              "  <tbody>\n",
              "    <tr>\n",
              "      <th>0</th>\n",
              "      <td>19.021376</td>\n",
              "      <td>-98.260392</td>\n",
              "      <td>1.0</td>\n",
              "      <td>0.0</td>\n",
              "      <td>1.0</td>\n",
              "      <td>25.0</td>\n",
              "    </tr>\n",
              "    <tr>\n",
              "      <th>1</th>\n",
              "      <td>19.021111</td>\n",
              "      <td>-98.260568</td>\n",
              "      <td>1.0</td>\n",
              "      <td>0.0</td>\n",
              "      <td>1.0</td>\n",
              "      <td>25.0</td>\n",
              "    </tr>\n",
              "    <tr>\n",
              "      <th>2</th>\n",
              "      <td>19.035221</td>\n",
              "      <td>-98.267035</td>\n",
              "      <td>2.0</td>\n",
              "      <td>0.0</td>\n",
              "      <td>1.0</td>\n",
              "      <td>25.0</td>\n",
              "    </tr>\n",
              "    <tr>\n",
              "      <th>3</th>\n",
              "      <td>19.081790</td>\n",
              "      <td>-98.298561</td>\n",
              "      <td>2.0</td>\n",
              "      <td>0.0</td>\n",
              "      <td>1.0</td>\n",
              "      <td>25.0</td>\n",
              "    </tr>\n",
              "    <tr>\n",
              "      <th>4</th>\n",
              "      <td>19.081771</td>\n",
              "      <td>-98.298589</td>\n",
              "      <td>1.0</td>\n",
              "      <td>0.0</td>\n",
              "      <td>1.0</td>\n",
              "      <td>25.0</td>\n",
              "    </tr>\n",
              "    <tr>\n",
              "      <th>...</th>\n",
              "      <td>...</td>\n",
              "      <td>...</td>\n",
              "      <td>...</td>\n",
              "      <td>...</td>\n",
              "      <td>...</td>\n",
              "      <td>...</td>\n",
              "    </tr>\n",
              "    <tr>\n",
              "      <th>385</th>\n",
              "      <td>19.043612</td>\n",
              "      <td>-98.194933</td>\n",
              "      <td>1.0</td>\n",
              "      <td>0.0</td>\n",
              "      <td>1.0</td>\n",
              "      <td>2.0</td>\n",
              "    </tr>\n",
              "    <tr>\n",
              "      <th>386</th>\n",
              "      <td>19.043607</td>\n",
              "      <td>-98.194856</td>\n",
              "      <td>1.0</td>\n",
              "      <td>0.0</td>\n",
              "      <td>1.0</td>\n",
              "      <td>2.0</td>\n",
              "    </tr>\n",
              "    <tr>\n",
              "      <th>387</th>\n",
              "      <td>19.043336</td>\n",
              "      <td>-98.194503</td>\n",
              "      <td>1.0</td>\n",
              "      <td>1.0</td>\n",
              "      <td>1.0</td>\n",
              "      <td>2.0</td>\n",
              "    </tr>\n",
              "    <tr>\n",
              "      <th>388</th>\n",
              "      <td>19.043576</td>\n",
              "      <td>-98.194873</td>\n",
              "      <td>2.0</td>\n",
              "      <td>0.0</td>\n",
              "      <td>1.0</td>\n",
              "      <td>2.0</td>\n",
              "    </tr>\n",
              "    <tr>\n",
              "      <th>389</th>\n",
              "      <td>19.043590</td>\n",
              "      <td>-98.194901</td>\n",
              "      <td>2.0</td>\n",
              "      <td>1.0</td>\n",
              "      <td>1.0</td>\n",
              "      <td>2.0</td>\n",
              "    </tr>\n",
              "  </tbody>\n",
              "</table>\n",
              "<p>390 rows × 6 columns</p>\n",
              "</div>\n",
              "      <button class=\"colab-df-convert\" onclick=\"convertToInteractive('df-0665f56e-b320-42c1-a5c6-e125966b4bd1')\"\n",
              "              title=\"Convert this dataframe to an interactive table.\"\n",
              "              style=\"display:none;\">\n",
              "        \n",
              "  <svg xmlns=\"http://www.w3.org/2000/svg\" height=\"24px\"viewBox=\"0 0 24 24\"\n",
              "       width=\"24px\">\n",
              "    <path d=\"M0 0h24v24H0V0z\" fill=\"none\"/>\n",
              "    <path d=\"M18.56 5.44l.94 2.06.94-2.06 2.06-.94-2.06-.94-.94-2.06-.94 2.06-2.06.94zm-11 1L8.5 8.5l.94-2.06 2.06-.94-2.06-.94L8.5 2.5l-.94 2.06-2.06.94zm10 10l.94 2.06.94-2.06 2.06-.94-2.06-.94-.94-2.06-.94 2.06-2.06.94z\"/><path d=\"M17.41 7.96l-1.37-1.37c-.4-.4-.92-.59-1.43-.59-.52 0-1.04.2-1.43.59L10.3 9.45l-7.72 7.72c-.78.78-.78 2.05 0 2.83L4 21.41c.39.39.9.59 1.41.59.51 0 1.02-.2 1.41-.59l7.78-7.78 2.81-2.81c.8-.78.8-2.07 0-2.86zM5.41 20L4 18.59l7.72-7.72 1.47 1.35L5.41 20z\"/>\n",
              "  </svg>\n",
              "      </button>\n",
              "      \n",
              "  <style>\n",
              "    .colab-df-container {\n",
              "      display:flex;\n",
              "      flex-wrap:wrap;\n",
              "      gap: 12px;\n",
              "    }\n",
              "\n",
              "    .colab-df-convert {\n",
              "      background-color: #E8F0FE;\n",
              "      border: none;\n",
              "      border-radius: 50%;\n",
              "      cursor: pointer;\n",
              "      display: none;\n",
              "      fill: #1967D2;\n",
              "      height: 32px;\n",
              "      padding: 0 0 0 0;\n",
              "      width: 32px;\n",
              "    }\n",
              "\n",
              "    .colab-df-convert:hover {\n",
              "      background-color: #E2EBFA;\n",
              "      box-shadow: 0px 1px 2px rgba(60, 64, 67, 0.3), 0px 1px 3px 1px rgba(60, 64, 67, 0.15);\n",
              "      fill: #174EA6;\n",
              "    }\n",
              "\n",
              "    [theme=dark] .colab-df-convert {\n",
              "      background-color: #3B4455;\n",
              "      fill: #D2E3FC;\n",
              "    }\n",
              "\n",
              "    [theme=dark] .colab-df-convert:hover {\n",
              "      background-color: #434B5C;\n",
              "      box-shadow: 0px 1px 3px 1px rgba(0, 0, 0, 0.15);\n",
              "      filter: drop-shadow(0px 1px 2px rgba(0, 0, 0, 0.3));\n",
              "      fill: #FFFFFF;\n",
              "    }\n",
              "  </style>\n",
              "\n",
              "      <script>\n",
              "        const buttonEl =\n",
              "          document.querySelector('#df-0665f56e-b320-42c1-a5c6-e125966b4bd1 button.colab-df-convert');\n",
              "        buttonEl.style.display =\n",
              "          google.colab.kernel.accessAllowed ? 'block' : 'none';\n",
              "\n",
              "        async function convertToInteractive(key) {\n",
              "          const element = document.querySelector('#df-0665f56e-b320-42c1-a5c6-e125966b4bd1');\n",
              "          const dataTable =\n",
              "            await google.colab.kernel.invokeFunction('convertToInteractive',\n",
              "                                                     [key], {});\n",
              "          if (!dataTable) return;\n",
              "\n",
              "          const docLinkHtml = 'Like what you see? Visit the ' +\n",
              "            '<a target=\"_blank\" href=https://colab.research.google.com/notebooks/data_table.ipynb>data table notebook</a>'\n",
              "            + ' to learn more about interactive tables.';\n",
              "          element.innerHTML = '';\n",
              "          dataTable['output_type'] = 'display_data';\n",
              "          await google.colab.output.renderOutput(dataTable, element);\n",
              "          const docLink = document.createElement('div');\n",
              "          docLink.innerHTML = docLinkHtml;\n",
              "          element.appendChild(docLink);\n",
              "        }\n",
              "      </script>\n",
              "    </div>\n",
              "  </div>\n",
              "  "
            ]
          },
          "metadata": {},
          "execution_count": 35
        }
      ]
    },
    {
      "cell_type": "code",
      "source": [
        "#Obtenemos info de las columnas para corroborar que estemos ocupando los datos apropiados\n",
        "data3_iqr_lastmile.info()"
      ],
      "metadata": {
        "colab": {
          "base_uri": "https://localhost:8080/"
        },
        "id": "WZGvLIi3xnQ6",
        "outputId": "6e1b127e-a97d-4872-d0f7-dd3e9e691c4a"
      },
      "execution_count": 36,
      "outputs": [
        {
          "output_type": "stream",
          "name": "stdout",
          "text": [
            "<class 'pandas.core.frame.DataFrame'>\n",
            "RangeIndex: 390 entries, 0 to 389\n",
            "Data columns (total 6 columns):\n",
            " #   Column                                         Non-Null Count  Dtype  \n",
            "---  ------                                         --------------  -----  \n",
            " 0   _latitude                                      390 non-null    float64\n",
            " 1   _longitude                                     390 non-null    float64\n",
            " 2   number_of_operators                            376 non-null    float64\n",
            " 3   number_of_available_trolleys                   386 non-null    float64\n",
            " 4   serving_customer                               390 non-null    float64\n",
            " 5   maximum_number_of_vehicles_in_the_traffic_jam  390 non-null    float64\n",
            "dtypes: float64(6)\n",
            "memory usage: 18.4 KB\n"
          ]
        }
      ]
    },
    {
      "cell_type": "code",
      "source": [
        "#corroboramos valores nulos\n",
        "valores_nulos=y.isnull().sum()\n",
        "valores_nulos"
      ],
      "metadata": {
        "colab": {
          "base_uri": "https://localhost:8080/"
        },
        "id": "vQhGpZtCyBXK",
        "outputId": "ad36656a-6f13-4de2-bae4-b846eedd7143"
      },
      "execution_count": 37,
      "outputs": [
        {
          "output_type": "execute_result",
          "data": {
            "text/plain": [
              "_latitude                                        0\n",
              "_longitude                                       0\n",
              "number_of_operators                              0\n",
              "number_of_available_trolleys                     0\n",
              "serving_customer                                 0\n",
              "maximum_number_of_vehicles_in_the_traffic_jam    0\n",
              "dtype: int64"
            ]
          },
          "metadata": {},
          "execution_count": 37
        }
      ]
    },
    {
      "cell_type": "code",
      "source": [
        "#Reemplazamos valores atípicos (nulos) del dataframe con \"mean\"\n",
        "#Realizamos una copia del dataframe\n",
        "data4_iqr=y.copy()\n",
        "data4_iqr=y.fillna(round(data4_iqr.mean(),1))\n",
        "data4_iqr"
      ],
      "metadata": {
        "colab": {
          "base_uri": "https://localhost:8080/",
          "height": 424
        },
        "id": "REVBpgCKzIWx",
        "outputId": "ae38da0a-a05a-4e17-8ffb-a255acbd4c5f"
      },
      "execution_count": 38,
      "outputs": [
        {
          "output_type": "execute_result",
          "data": {
            "text/plain": [
              "     _latitude  _longitude  number_of_operators  number_of_available_trolleys  \\\n",
              "0    19.021376  -98.260392                    1                             0   \n",
              "1    19.021111  -98.260568                    1                             0   \n",
              "2    19.035221  -98.267035                    2                             0   \n",
              "3    19.081790  -98.298561                    2                             0   \n",
              "4    19.081771  -98.298589                    1                             0   \n",
              "..         ...         ...                  ...                           ...   \n",
              "385  19.043612  -98.194933                    1                             0   \n",
              "386  19.043607  -98.194856                    1                             0   \n",
              "387  19.043336  -98.194503                    1                             1   \n",
              "388  19.043576  -98.194873                    2                             0   \n",
              "389  19.043590  -98.194901                    2                             1   \n",
              "\n",
              "     serving_customer  maximum_number_of_vehicles_in_the_traffic_jam  \n",
              "0                 1.0                                           25.0  \n",
              "1                 1.0                                           25.0  \n",
              "2                 1.0                                           25.0  \n",
              "3                 1.0                                           25.0  \n",
              "4                 1.0                                           25.0  \n",
              "..                ...                                            ...  \n",
              "385               1.0                                            2.0  \n",
              "386               1.0                                            2.0  \n",
              "387               1.0                                            2.0  \n",
              "388               1.0                                            2.0  \n",
              "389               1.0                                            2.0  \n",
              "\n",
              "[390 rows x 6 columns]"
            ],
            "text/html": [
              "\n",
              "  <div id=\"df-cb91358c-5610-4720-9936-2e6693d43ad7\">\n",
              "    <div class=\"colab-df-container\">\n",
              "      <div>\n",
              "<style scoped>\n",
              "    .dataframe tbody tr th:only-of-type {\n",
              "        vertical-align: middle;\n",
              "    }\n",
              "\n",
              "    .dataframe tbody tr th {\n",
              "        vertical-align: top;\n",
              "    }\n",
              "\n",
              "    .dataframe thead th {\n",
              "        text-align: right;\n",
              "    }\n",
              "</style>\n",
              "<table border=\"1\" class=\"dataframe\">\n",
              "  <thead>\n",
              "    <tr style=\"text-align: right;\">\n",
              "      <th></th>\n",
              "      <th>_latitude</th>\n",
              "      <th>_longitude</th>\n",
              "      <th>number_of_operators</th>\n",
              "      <th>number_of_available_trolleys</th>\n",
              "      <th>serving_customer</th>\n",
              "      <th>maximum_number_of_vehicles_in_the_traffic_jam</th>\n",
              "    </tr>\n",
              "  </thead>\n",
              "  <tbody>\n",
              "    <tr>\n",
              "      <th>0</th>\n",
              "      <td>19.021376</td>\n",
              "      <td>-98.260392</td>\n",
              "      <td>1</td>\n",
              "      <td>0</td>\n",
              "      <td>1.0</td>\n",
              "      <td>25.0</td>\n",
              "    </tr>\n",
              "    <tr>\n",
              "      <th>1</th>\n",
              "      <td>19.021111</td>\n",
              "      <td>-98.260568</td>\n",
              "      <td>1</td>\n",
              "      <td>0</td>\n",
              "      <td>1.0</td>\n",
              "      <td>25.0</td>\n",
              "    </tr>\n",
              "    <tr>\n",
              "      <th>2</th>\n",
              "      <td>19.035221</td>\n",
              "      <td>-98.267035</td>\n",
              "      <td>2</td>\n",
              "      <td>0</td>\n",
              "      <td>1.0</td>\n",
              "      <td>25.0</td>\n",
              "    </tr>\n",
              "    <tr>\n",
              "      <th>3</th>\n",
              "      <td>19.081790</td>\n",
              "      <td>-98.298561</td>\n",
              "      <td>2</td>\n",
              "      <td>0</td>\n",
              "      <td>1.0</td>\n",
              "      <td>25.0</td>\n",
              "    </tr>\n",
              "    <tr>\n",
              "      <th>4</th>\n",
              "      <td>19.081771</td>\n",
              "      <td>-98.298589</td>\n",
              "      <td>1</td>\n",
              "      <td>0</td>\n",
              "      <td>1.0</td>\n",
              "      <td>25.0</td>\n",
              "    </tr>\n",
              "    <tr>\n",
              "      <th>...</th>\n",
              "      <td>...</td>\n",
              "      <td>...</td>\n",
              "      <td>...</td>\n",
              "      <td>...</td>\n",
              "      <td>...</td>\n",
              "      <td>...</td>\n",
              "    </tr>\n",
              "    <tr>\n",
              "      <th>385</th>\n",
              "      <td>19.043612</td>\n",
              "      <td>-98.194933</td>\n",
              "      <td>1</td>\n",
              "      <td>0</td>\n",
              "      <td>1.0</td>\n",
              "      <td>2.0</td>\n",
              "    </tr>\n",
              "    <tr>\n",
              "      <th>386</th>\n",
              "      <td>19.043607</td>\n",
              "      <td>-98.194856</td>\n",
              "      <td>1</td>\n",
              "      <td>0</td>\n",
              "      <td>1.0</td>\n",
              "      <td>2.0</td>\n",
              "    </tr>\n",
              "    <tr>\n",
              "      <th>387</th>\n",
              "      <td>19.043336</td>\n",
              "      <td>-98.194503</td>\n",
              "      <td>1</td>\n",
              "      <td>1</td>\n",
              "      <td>1.0</td>\n",
              "      <td>2.0</td>\n",
              "    </tr>\n",
              "    <tr>\n",
              "      <th>388</th>\n",
              "      <td>19.043576</td>\n",
              "      <td>-98.194873</td>\n",
              "      <td>2</td>\n",
              "      <td>0</td>\n",
              "      <td>1.0</td>\n",
              "      <td>2.0</td>\n",
              "    </tr>\n",
              "    <tr>\n",
              "      <th>389</th>\n",
              "      <td>19.043590</td>\n",
              "      <td>-98.194901</td>\n",
              "      <td>2</td>\n",
              "      <td>1</td>\n",
              "      <td>1.0</td>\n",
              "      <td>2.0</td>\n",
              "    </tr>\n",
              "  </tbody>\n",
              "</table>\n",
              "<p>390 rows × 6 columns</p>\n",
              "</div>\n",
              "      <button class=\"colab-df-convert\" onclick=\"convertToInteractive('df-cb91358c-5610-4720-9936-2e6693d43ad7')\"\n",
              "              title=\"Convert this dataframe to an interactive table.\"\n",
              "              style=\"display:none;\">\n",
              "        \n",
              "  <svg xmlns=\"http://www.w3.org/2000/svg\" height=\"24px\"viewBox=\"0 0 24 24\"\n",
              "       width=\"24px\">\n",
              "    <path d=\"M0 0h24v24H0V0z\" fill=\"none\"/>\n",
              "    <path d=\"M18.56 5.44l.94 2.06.94-2.06 2.06-.94-2.06-.94-.94-2.06-.94 2.06-2.06.94zm-11 1L8.5 8.5l.94-2.06 2.06-.94-2.06-.94L8.5 2.5l-.94 2.06-2.06.94zm10 10l.94 2.06.94-2.06 2.06-.94-2.06-.94-.94-2.06-.94 2.06-2.06.94z\"/><path d=\"M17.41 7.96l-1.37-1.37c-.4-.4-.92-.59-1.43-.59-.52 0-1.04.2-1.43.59L10.3 9.45l-7.72 7.72c-.78.78-.78 2.05 0 2.83L4 21.41c.39.39.9.59 1.41.59.51 0 1.02-.2 1.41-.59l7.78-7.78 2.81-2.81c.8-.78.8-2.07 0-2.86zM5.41 20L4 18.59l7.72-7.72 1.47 1.35L5.41 20z\"/>\n",
              "  </svg>\n",
              "      </button>\n",
              "      \n",
              "  <style>\n",
              "    .colab-df-container {\n",
              "      display:flex;\n",
              "      flex-wrap:wrap;\n",
              "      gap: 12px;\n",
              "    }\n",
              "\n",
              "    .colab-df-convert {\n",
              "      background-color: #E8F0FE;\n",
              "      border: none;\n",
              "      border-radius: 50%;\n",
              "      cursor: pointer;\n",
              "      display: none;\n",
              "      fill: #1967D2;\n",
              "      height: 32px;\n",
              "      padding: 0 0 0 0;\n",
              "      width: 32px;\n",
              "    }\n",
              "\n",
              "    .colab-df-convert:hover {\n",
              "      background-color: #E2EBFA;\n",
              "      box-shadow: 0px 1px 2px rgba(60, 64, 67, 0.3), 0px 1px 3px 1px rgba(60, 64, 67, 0.15);\n",
              "      fill: #174EA6;\n",
              "    }\n",
              "\n",
              "    [theme=dark] .colab-df-convert {\n",
              "      background-color: #3B4455;\n",
              "      fill: #D2E3FC;\n",
              "    }\n",
              "\n",
              "    [theme=dark] .colab-df-convert:hover {\n",
              "      background-color: #434B5C;\n",
              "      box-shadow: 0px 1px 3px 1px rgba(0, 0, 0, 0.15);\n",
              "      filter: drop-shadow(0px 1px 2px rgba(0, 0, 0, 0.3));\n",
              "      fill: #FFFFFF;\n",
              "    }\n",
              "  </style>\n",
              "\n",
              "      <script>\n",
              "        const buttonEl =\n",
              "          document.querySelector('#df-cb91358c-5610-4720-9936-2e6693d43ad7 button.colab-df-convert');\n",
              "        buttonEl.style.display =\n",
              "          google.colab.kernel.accessAllowed ? 'block' : 'none';\n",
              "\n",
              "        async function convertToInteractive(key) {\n",
              "          const element = document.querySelector('#df-cb91358c-5610-4720-9936-2e6693d43ad7');\n",
              "          const dataTable =\n",
              "            await google.colab.kernel.invokeFunction('convertToInteractive',\n",
              "                                                     [key], {});\n",
              "          if (!dataTable) return;\n",
              "\n",
              "          const docLinkHtml = 'Like what you see? Visit the ' +\n",
              "            '<a target=\"_blank\" href=https://colab.research.google.com/notebooks/data_table.ipynb>data table notebook</a>'\n",
              "            + ' to learn more about interactive tables.';\n",
              "          element.innerHTML = '';\n",
              "          dataTable['output_type'] = 'display_data';\n",
              "          await google.colab.output.renderOutput(dataTable, element);\n",
              "          const docLink = document.createElement('div');\n",
              "          docLink.innerHTML = docLinkHtml;\n",
              "          element.appendChild(docLink);\n",
              "        }\n",
              "      </script>\n",
              "    </div>\n",
              "  </div>\n",
              "  "
            ]
          },
          "metadata": {},
          "execution_count": 38
        }
      ]
    },
    {
      "cell_type": "code",
      "source": [
        "#Observamos variables dentro del dataframe\n",
        "data4_iqr"
      ],
      "metadata": {
        "colab": {
          "base_uri": "https://localhost:8080/",
          "height": 424
        },
        "id": "O-5Kn3i8Qdhk",
        "outputId": "4c7f23da-3f1a-47f8-f6c5-0cbdbcdbc426"
      },
      "execution_count": 39,
      "outputs": [
        {
          "output_type": "execute_result",
          "data": {
            "text/plain": [
              "     _latitude  _longitude  number_of_operators  number_of_available_trolleys  \\\n",
              "0    19.021376  -98.260392                    1                             0   \n",
              "1    19.021111  -98.260568                    1                             0   \n",
              "2    19.035221  -98.267035                    2                             0   \n",
              "3    19.081790  -98.298561                    2                             0   \n",
              "4    19.081771  -98.298589                    1                             0   \n",
              "..         ...         ...                  ...                           ...   \n",
              "385  19.043612  -98.194933                    1                             0   \n",
              "386  19.043607  -98.194856                    1                             0   \n",
              "387  19.043336  -98.194503                    1                             1   \n",
              "388  19.043576  -98.194873                    2                             0   \n",
              "389  19.043590  -98.194901                    2                             1   \n",
              "\n",
              "     serving_customer  maximum_number_of_vehicles_in_the_traffic_jam  \n",
              "0                 1.0                                           25.0  \n",
              "1                 1.0                                           25.0  \n",
              "2                 1.0                                           25.0  \n",
              "3                 1.0                                           25.0  \n",
              "4                 1.0                                           25.0  \n",
              "..                ...                                            ...  \n",
              "385               1.0                                            2.0  \n",
              "386               1.0                                            2.0  \n",
              "387               1.0                                            2.0  \n",
              "388               1.0                                            2.0  \n",
              "389               1.0                                            2.0  \n",
              "\n",
              "[390 rows x 6 columns]"
            ],
            "text/html": [
              "\n",
              "  <div id=\"df-14d1d14b-6eb3-4569-bbb4-109e72333276\">\n",
              "    <div class=\"colab-df-container\">\n",
              "      <div>\n",
              "<style scoped>\n",
              "    .dataframe tbody tr th:only-of-type {\n",
              "        vertical-align: middle;\n",
              "    }\n",
              "\n",
              "    .dataframe tbody tr th {\n",
              "        vertical-align: top;\n",
              "    }\n",
              "\n",
              "    .dataframe thead th {\n",
              "        text-align: right;\n",
              "    }\n",
              "</style>\n",
              "<table border=\"1\" class=\"dataframe\">\n",
              "  <thead>\n",
              "    <tr style=\"text-align: right;\">\n",
              "      <th></th>\n",
              "      <th>_latitude</th>\n",
              "      <th>_longitude</th>\n",
              "      <th>number_of_operators</th>\n",
              "      <th>number_of_available_trolleys</th>\n",
              "      <th>serving_customer</th>\n",
              "      <th>maximum_number_of_vehicles_in_the_traffic_jam</th>\n",
              "    </tr>\n",
              "  </thead>\n",
              "  <tbody>\n",
              "    <tr>\n",
              "      <th>0</th>\n",
              "      <td>19.021376</td>\n",
              "      <td>-98.260392</td>\n",
              "      <td>1</td>\n",
              "      <td>0</td>\n",
              "      <td>1.0</td>\n",
              "      <td>25.0</td>\n",
              "    </tr>\n",
              "    <tr>\n",
              "      <th>1</th>\n",
              "      <td>19.021111</td>\n",
              "      <td>-98.260568</td>\n",
              "      <td>1</td>\n",
              "      <td>0</td>\n",
              "      <td>1.0</td>\n",
              "      <td>25.0</td>\n",
              "    </tr>\n",
              "    <tr>\n",
              "      <th>2</th>\n",
              "      <td>19.035221</td>\n",
              "      <td>-98.267035</td>\n",
              "      <td>2</td>\n",
              "      <td>0</td>\n",
              "      <td>1.0</td>\n",
              "      <td>25.0</td>\n",
              "    </tr>\n",
              "    <tr>\n",
              "      <th>3</th>\n",
              "      <td>19.081790</td>\n",
              "      <td>-98.298561</td>\n",
              "      <td>2</td>\n",
              "      <td>0</td>\n",
              "      <td>1.0</td>\n",
              "      <td>25.0</td>\n",
              "    </tr>\n",
              "    <tr>\n",
              "      <th>4</th>\n",
              "      <td>19.081771</td>\n",
              "      <td>-98.298589</td>\n",
              "      <td>1</td>\n",
              "      <td>0</td>\n",
              "      <td>1.0</td>\n",
              "      <td>25.0</td>\n",
              "    </tr>\n",
              "    <tr>\n",
              "      <th>...</th>\n",
              "      <td>...</td>\n",
              "      <td>...</td>\n",
              "      <td>...</td>\n",
              "      <td>...</td>\n",
              "      <td>...</td>\n",
              "      <td>...</td>\n",
              "    </tr>\n",
              "    <tr>\n",
              "      <th>385</th>\n",
              "      <td>19.043612</td>\n",
              "      <td>-98.194933</td>\n",
              "      <td>1</td>\n",
              "      <td>0</td>\n",
              "      <td>1.0</td>\n",
              "      <td>2.0</td>\n",
              "    </tr>\n",
              "    <tr>\n",
              "      <th>386</th>\n",
              "      <td>19.043607</td>\n",
              "      <td>-98.194856</td>\n",
              "      <td>1</td>\n",
              "      <td>0</td>\n",
              "      <td>1.0</td>\n",
              "      <td>2.0</td>\n",
              "    </tr>\n",
              "    <tr>\n",
              "      <th>387</th>\n",
              "      <td>19.043336</td>\n",
              "      <td>-98.194503</td>\n",
              "      <td>1</td>\n",
              "      <td>1</td>\n",
              "      <td>1.0</td>\n",
              "      <td>2.0</td>\n",
              "    </tr>\n",
              "    <tr>\n",
              "      <th>388</th>\n",
              "      <td>19.043576</td>\n",
              "      <td>-98.194873</td>\n",
              "      <td>2</td>\n",
              "      <td>0</td>\n",
              "      <td>1.0</td>\n",
              "      <td>2.0</td>\n",
              "    </tr>\n",
              "    <tr>\n",
              "      <th>389</th>\n",
              "      <td>19.043590</td>\n",
              "      <td>-98.194901</td>\n",
              "      <td>2</td>\n",
              "      <td>1</td>\n",
              "      <td>1.0</td>\n",
              "      <td>2.0</td>\n",
              "    </tr>\n",
              "  </tbody>\n",
              "</table>\n",
              "<p>390 rows × 6 columns</p>\n",
              "</div>\n",
              "      <button class=\"colab-df-convert\" onclick=\"convertToInteractive('df-14d1d14b-6eb3-4569-bbb4-109e72333276')\"\n",
              "              title=\"Convert this dataframe to an interactive table.\"\n",
              "              style=\"display:none;\">\n",
              "        \n",
              "  <svg xmlns=\"http://www.w3.org/2000/svg\" height=\"24px\"viewBox=\"0 0 24 24\"\n",
              "       width=\"24px\">\n",
              "    <path d=\"M0 0h24v24H0V0z\" fill=\"none\"/>\n",
              "    <path d=\"M18.56 5.44l.94 2.06.94-2.06 2.06-.94-2.06-.94-.94-2.06-.94 2.06-2.06.94zm-11 1L8.5 8.5l.94-2.06 2.06-.94-2.06-.94L8.5 2.5l-.94 2.06-2.06.94zm10 10l.94 2.06.94-2.06 2.06-.94-2.06-.94-.94-2.06-.94 2.06-2.06.94z\"/><path d=\"M17.41 7.96l-1.37-1.37c-.4-.4-.92-.59-1.43-.59-.52 0-1.04.2-1.43.59L10.3 9.45l-7.72 7.72c-.78.78-.78 2.05 0 2.83L4 21.41c.39.39.9.59 1.41.59.51 0 1.02-.2 1.41-.59l7.78-7.78 2.81-2.81c.8-.78.8-2.07 0-2.86zM5.41 20L4 18.59l7.72-7.72 1.47 1.35L5.41 20z\"/>\n",
              "  </svg>\n",
              "      </button>\n",
              "      \n",
              "  <style>\n",
              "    .colab-df-container {\n",
              "      display:flex;\n",
              "      flex-wrap:wrap;\n",
              "      gap: 12px;\n",
              "    }\n",
              "\n",
              "    .colab-df-convert {\n",
              "      background-color: #E8F0FE;\n",
              "      border: none;\n",
              "      border-radius: 50%;\n",
              "      cursor: pointer;\n",
              "      display: none;\n",
              "      fill: #1967D2;\n",
              "      height: 32px;\n",
              "      padding: 0 0 0 0;\n",
              "      width: 32px;\n",
              "    }\n",
              "\n",
              "    .colab-df-convert:hover {\n",
              "      background-color: #E2EBFA;\n",
              "      box-shadow: 0px 1px 2px rgba(60, 64, 67, 0.3), 0px 1px 3px 1px rgba(60, 64, 67, 0.15);\n",
              "      fill: #174EA6;\n",
              "    }\n",
              "\n",
              "    [theme=dark] .colab-df-convert {\n",
              "      background-color: #3B4455;\n",
              "      fill: #D2E3FC;\n",
              "    }\n",
              "\n",
              "    [theme=dark] .colab-df-convert:hover {\n",
              "      background-color: #434B5C;\n",
              "      box-shadow: 0px 1px 3px 1px rgba(0, 0, 0, 0.15);\n",
              "      filter: drop-shadow(0px 1px 2px rgba(0, 0, 0, 0.3));\n",
              "      fill: #FFFFFF;\n",
              "    }\n",
              "  </style>\n",
              "\n",
              "      <script>\n",
              "        const buttonEl =\n",
              "          document.querySelector('#df-14d1d14b-6eb3-4569-bbb4-109e72333276 button.colab-df-convert');\n",
              "        buttonEl.style.display =\n",
              "          google.colab.kernel.accessAllowed ? 'block' : 'none';\n",
              "\n",
              "        async function convertToInteractive(key) {\n",
              "          const element = document.querySelector('#df-14d1d14b-6eb3-4569-bbb4-109e72333276');\n",
              "          const dataTable =\n",
              "            await google.colab.kernel.invokeFunction('convertToInteractive',\n",
              "                                                     [key], {});\n",
              "          if (!dataTable) return;\n",
              "\n",
              "          const docLinkHtml = 'Like what you see? Visit the ' +\n",
              "            '<a target=\"_blank\" href=https://colab.research.google.com/notebooks/data_table.ipynb>data table notebook</a>'\n",
              "            + ' to learn more about interactive tables.';\n",
              "          element.innerHTML = '';\n",
              "          dataTable['output_type'] = 'display_data';\n",
              "          await google.colab.output.renderOutput(dataTable, element);\n",
              "          const docLink = document.createElement('div');\n",
              "          docLink.innerHTML = docLinkHtml;\n",
              "          element.appendChild(docLink);\n",
              "        }\n",
              "      </script>\n",
              "    </div>\n",
              "  </div>\n",
              "  "
            ]
          },
          "metadata": {},
          "execution_count": 39
        }
      ]
    },
    {
      "cell_type": "markdown",
      "source": [
        "Hasta aqui mi parte\n"
      ],
      "metadata": {
        "id": "3dFfU7K_yn9i"
      }
    },
    {
      "cell_type": "code",
      "source": [
        "#analizamos caso 1 de correlación entre variable de número de clientes en la tienda respecto al número de estantes en la tienda, el número de refrigeradores y el número de empleados permanentes\n",
        "Vars_Indep= data4_iqr[['268_number_fridges','104_how_many_shelves_does_the_micro_retailer_have', '2_current_permanent_employees']]\n",
        "Var_Dep= data4_iqr['97_number_of_customers_in_store']"
      ],
      "metadata": {
        "id": "9nh0pU5ZQm-6"
      },
      "execution_count": null,
      "outputs": []
    },
    {
      "cell_type": "code",
      "source": [
        "#se define modelo como la función de regresión lineal\n",
        "from sklearn.linear_model import LinearRegression\n",
        "model= LinearRegression()"
      ],
      "metadata": {
        "id": "aWLwlA7xRhB3"
      },
      "execution_count": null,
      "outputs": []
    },
    {
      "cell_type": "code",
      "source": [
        "#Verificamos la función relacionada al modelo \n",
        "type(model)"
      ],
      "metadata": {
        "colab": {
          "base_uri": "https://localhost:8080/"
        },
        "id": "bUGSZ8B0RktQ",
        "outputId": "ee945553-888d-45cf-cf5e-f1d882fe3133"
      },
      "execution_count": null,
      "outputs": [
        {
          "output_type": "execute_result",
          "data": {
            "text/plain": [
              "sklearn.linear_model._base.LinearRegression"
            ]
          },
          "metadata": {},
          "execution_count": 21
        }
      ]
    },
    {
      "cell_type": "code",
      "source": [
        "#ajustamos el modelo con las variables antes declaradas\n",
        "model.fit(X=Vars_Indep, y=Var_Dep)"
      ],
      "metadata": {
        "colab": {
          "base_uri": "https://localhost:8080/"
        },
        "id": "E5nheucyRnfP",
        "outputId": "b2498b37-cdf4-4bf3-b51c-53ab163f83ac"
      },
      "execution_count": null,
      "outputs": [
        {
          "output_type": "execute_result",
          "data": {
            "text/plain": [
              "LinearRegression()"
            ]
          },
          "metadata": {},
          "execution_count": 22
        }
      ]
    },
    {
      "cell_type": "code",
      "source": [
        "#Verificamos los coeficientes obtenidos para el modelo ajustado\n",
        "model.__dict__"
      ],
      "metadata": {
        "colab": {
          "base_uri": "https://localhost:8080/"
        },
        "id": "LBGY-3mwRpeE",
        "outputId": "fd21053c-b6a6-4212-fa13-32d4e5a46602"
      },
      "execution_count": null,
      "outputs": [
        {
          "output_type": "execute_result",
          "data": {
            "text/plain": [
              "{'fit_intercept': True,\n",
              " 'normalize': 'deprecated',\n",
              " 'copy_X': True,\n",
              " 'n_jobs': None,\n",
              " 'positive': False,\n",
              " 'feature_names_in_': array(['268_number_fridges',\n",
              "        '104_how_many_shelves_does_the_micro_retailer_have',\n",
              "        '2_current_permanent_employees'], dtype=object),\n",
              " 'n_features_in_': 3,\n",
              " 'coef_': array([0.19590676, 0.0080384 , 0.08928311]),\n",
              " '_residues': 972.3842620033486,\n",
              " 'rank_': 3,\n",
              " 'singular_': array([260.78872511,  58.823247  ,  42.76081943]),\n",
              " 'intercept_': 0.8414396869333318}"
            ]
          },
          "metadata": {},
          "execution_count": 23
        }
      ]
    },
    {
      "cell_type": "code",
      "source": [
        "#Evaluamos la eficiencia del modelo obtenido por medio del coeficiente R determinado\n",
        "model.score(Vars_Indep,Var_Dep)"
      ],
      "metadata": {
        "colab": {
          "base_uri": "https://localhost:8080/"
        },
        "id": "ZP-lT8y2Rrsr",
        "outputId": "52e69412-2281-4b08-daa0-ea20e3fd3ae8"
      },
      "execution_count": null,
      "outputs": [
        {
          "output_type": "execute_result",
          "data": {
            "text/plain": [
              "0.1130725423688903"
            ]
          },
          "metadata": {},
          "execution_count": 24
        }
      ]
    },
    {
      "cell_type": "code",
      "source": [
        "#Declaramos las variables dependientes e independientes para la regresión logística\n",
        "Vars_Indep= data4_iqr[['268_number_fridges','104_how_many_shelves_does_the_micro_retailer_have', '2_current_permanent_employees']]\n",
        "Var_Dep= data4_iqr['97_number_of_customers_in_store']"
      ],
      "metadata": {
        "id": "0zjWKvR6RtiE"
      },
      "execution_count": null,
      "outputs": []
    },
    {
      "cell_type": "code",
      "source": [
        "#Redefinimos las variables\n",
        "X= Vars_Indep\n",
        "y= Var_Dep"
      ],
      "metadata": {
        "id": "sWdV_WUITEHQ"
      },
      "execution_count": null,
      "outputs": []
    },
    {
      "cell_type": "code",
      "source": [
        "#Dividimos el conjunto de datos en la parte de entrenamiento y prueba:\n",
        "X_train, X_test, y_train, y_test = train_test_split(X, y, test_size=0.3, random_state =None)"
      ],
      "metadata": {
        "id": "tm8yrfLqTE91"
      },
      "execution_count": null,
      "outputs": []
    },
    {
      "cell_type": "code",
      "source": [
        "#Se escalan todos los datos\n",
        "escalar= StandardScaler()"
      ],
      "metadata": {
        "id": "Vqu2i5BXTHZU"
      },
      "execution_count": null,
      "outputs": []
    },
    {
      "cell_type": "code",
      "source": [
        "#Para realizar el escalamiento de las variables \"X\" tanto de entrenamiento como de prueba, utilizaremos fit_transform\n",
        "X_train = escalar.fit_transform(X_train)\n",
        "X_test = escalar.transform(X_test)"
      ],
      "metadata": {
        "id": "SP39ZSJwTIJG"
      },
      "execution_count": null,
      "outputs": []
    },
    {
      "cell_type": "code",
      "source": [
        "#Definimos el algoritmo a utilizar\n",
        "from sklearn.linear_model import LogisticRegression\n",
        "algoritmo = LogisticRegression()"
      ],
      "metadata": {
        "id": "5WqXb0THTJjm"
      },
      "execution_count": null,
      "outputs": []
    },
    {
      "cell_type": "code",
      "source": [
        "#Entrenamos el modelo\n",
        "algoritmo.fit(X_train, y_train)"
      ],
      "metadata": {
        "colab": {
          "base_uri": "https://localhost:8080/"
        },
        "id": "HPnRfxvnTLKN",
        "outputId": "92eb8d0f-4a40-4455-ee61-05f4950d8856"
      },
      "execution_count": null,
      "outputs": [
        {
          "output_type": "execute_result",
          "data": {
            "text/plain": [
              "LogisticRegression()"
            ]
          },
          "metadata": {},
          "execution_count": 31
        }
      ]
    },
    {
      "cell_type": "code",
      "source": [
        "#Realizamos una predicción\n",
        "y_pred= algoritmo.predict(X_test)\n",
        "y_pred "
      ],
      "metadata": {
        "colab": {
          "base_uri": "https://localhost:8080/"
        },
        "id": "wfQHkxEzTMVL",
        "outputId": "43342277-4a1b-4eec-f742-2ff6d1e12fe5"
      },
      "execution_count": null,
      "outputs": [
        {
          "output_type": "execute_result",
          "data": {
            "text/plain": [
              "array([0, 0, 0, 0, 0, 0, 0, 0, 0, 0, 0, 2, 0, 0, 0, 0, 3, 0, 0, 0, 0, 0,\n",
              "       0, 0, 0, 0, 0, 2, 0, 0, 0, 0, 0, 0, 0, 0, 0, 0, 0, 0, 0, 0, 0, 0,\n",
              "       0, 0, 0, 0, 3, 0, 0, 0, 0, 0, 1, 0, 0, 0, 0, 0, 0, 0, 0, 0, 0, 0,\n",
              "       0, 0, 0, 0, 0, 0, 0, 0, 0, 0, 3, 0, 0, 0, 0, 2, 0, 0, 0, 0, 0, 0,\n",
              "       0, 2, 0, 0, 0, 0, 0, 0, 0, 0, 0])"
            ]
          },
          "metadata": {},
          "execution_count": 32
        }
      ]
    },
    {
      "cell_type": "code",
      "source": [
        "#Verifico la matriz de Confusión\n",
        "from sklearn.metrics import confusion_matrix\n",
        "matriz = confusion_matrix(y_test, y_pred)\n",
        "print('Matriz de Confusión:')\n",
        "print(matriz)"
      ],
      "metadata": {
        "colab": {
          "base_uri": "https://localhost:8080/"
        },
        "id": "pCA_DDumTNlb",
        "outputId": "37ccf69d-9b7e-49ba-aa64-91f3f4f52222"
      },
      "execution_count": null,
      "outputs": [
        {
          "output_type": "stream",
          "name": "stdout",
          "text": [
            "Matriz de Confusión:\n",
            "[[45  1  0  0  0  0  0  0  0]\n",
            " [16  0  1  0  0  0  0  0  0]\n",
            " [16  0  2  2  0  0  0  0  0]\n",
            " [ 8  0  0  0  0  0  0  0  0]\n",
            " [ 3  0  0  0  0  0  0  0  0]\n",
            " [ 2  0  0  0  0  0  0  0  0]\n",
            " [ 1  0  0  0  0  0  0  0  0]\n",
            " [ 0  0  0  1  0  0  0  0  0]\n",
            " [ 0  0  1  0  0  0  0  0  0]]\n"
          ]
        }
      ]
    },
    {
      "cell_type": "code",
      "source": [
        "#Calculo la precisión del modelo \n",
        "from sklearn.metrics import precision_score\n",
        "precision= precision_score(y_test, y_pred, average=\"micro\", pos_label=\"yes\")\n",
        "print('Precision del modelo:')\n",
        "print(precision)"
      ],
      "metadata": {
        "colab": {
          "base_uri": "https://localhost:8080/"
        },
        "id": "ULFyRHOJTO_R",
        "outputId": "6b26aa40-cd0d-45a3-9f84-50bebf0d053b"
      },
      "execution_count": null,
      "outputs": [
        {
          "output_type": "stream",
          "name": "stdout",
          "text": [
            "Precision del modelo:\n",
            "0.47474747474747475\n"
          ]
        },
        {
          "output_type": "stream",
          "name": "stderr",
          "text": [
            "/usr/local/lib/python3.7/dist-packages/sklearn/metrics/_classification.py:1375: UserWarning: Note that pos_label (set to 'yes') is ignored when average != 'binary' (got 'micro'). You may use labels=[pos_label] to specify a single positive class.\n",
            "  UserWarning,\n"
          ]
        }
      ]
    },
    {
      "cell_type": "code",
      "source": [
        "#Calculo la exactitud del modelo\n",
        "from sklearn.metrics import accuracy_score\n",
        "exactitud= accuracy_score(y_test, y_pred)\n",
        "print('Exactitud del modelo')\n",
        "print(exactitud)"
      ],
      "metadata": {
        "colab": {
          "base_uri": "https://localhost:8080/"
        },
        "id": "rL-8dOQMTQ7x",
        "outputId": "fae3e0f2-fa51-40b7-dfd1-ef4705a5d92a"
      },
      "execution_count": null,
      "outputs": [
        {
          "output_type": "stream",
          "name": "stdout",
          "text": [
            "Exactitud del modelo\n",
            "0.47474747474747475\n"
          ]
        }
      ]
    },
    {
      "cell_type": "code",
      "source": [
        "#Calculo la sensibilidad del modelo \n",
        "from sklearn.metrics import recall_score\n",
        "sensibilidad=recall_score(y_test, y_pred, average='micro', pos_label=\"yes\")\n",
        "print('Sensibilidad del modelo')\n",
        "print(sensibilidad)"
      ],
      "metadata": {
        "colab": {
          "base_uri": "https://localhost:8080/"
        },
        "id": "yMDHXpFMTTl-",
        "outputId": "722615b9-9afa-40c9-b2cd-c2560f312e3d"
      },
      "execution_count": null,
      "outputs": [
        {
          "output_type": "stream",
          "name": "stdout",
          "text": [
            "Sensibilidad del modelo\n",
            "0.47474747474747475\n"
          ]
        },
        {
          "output_type": "stream",
          "name": "stderr",
          "text": [
            "/usr/local/lib/python3.7/dist-packages/sklearn/metrics/_classification.py:1375: UserWarning: Note that pos_label (set to 'yes') is ignored when average != 'binary' (got 'micro'). You may use labels=[pos_label] to specify a single positive class.\n",
            "  UserWarning,\n"
          ]
        }
      ]
    },
    {
      "cell_type": "markdown",
      "source": [
        "# Conjunto de variables 2"
      ],
      "metadata": {
        "id": "ENDN65RCfg_I"
      }
    },
    {
      "cell_type": "code",
      "source": [
        "#3y4\n",
        "#analizamos caso 1 de correlación entre variable de número de clientes en la tienda respecto al número de estantes en la tienda, el número de refrigeradores y el número de empleados permanentes\n",
        "Vars_Indep= data4_iqr[['145_number_direct_competitors','272_card_days_receive_money', '4_number_permanent_employees_last_year']]\n",
        "Var_Dep= data4_iqr['97_number_of_customers_in_store']"
      ],
      "metadata": {
        "id": "arSa7Y3Ofgje",
        "colab": {
          "base_uri": "https://localhost:8080/",
          "height": 235
        },
        "outputId": "a26bf1dc-244f-4e86-9261-5f651efce93f"
      },
      "execution_count": null,
      "outputs": [
        {
          "output_type": "error",
          "ename": "NameError",
          "evalue": "ignored",
          "traceback": [
            "\u001b[0;31m---------------------------------------------------------------------------\u001b[0m",
            "\u001b[0;31mNameError\u001b[0m                                 Traceback (most recent call last)",
            "\u001b[0;32m<ipython-input-1-5f9f57549e0b>\u001b[0m in \u001b[0;36m<module>\u001b[0;34m\u001b[0m\n\u001b[1;32m      1\u001b[0m \u001b[0;31m#3y4\u001b[0m\u001b[0;34m\u001b[0m\u001b[0;34m\u001b[0m\u001b[0;34m\u001b[0m\u001b[0m\n\u001b[1;32m      2\u001b[0m \u001b[0;31m#analizamos caso 1 de correlación entre variable de número de clientes en la tienda respecto al número de estantes en la tienda, el número de refrigeradores y el número de empleados permanentes\u001b[0m\u001b[0;34m\u001b[0m\u001b[0;34m\u001b[0m\u001b[0;34m\u001b[0m\u001b[0m\n\u001b[0;32m----> 3\u001b[0;31m \u001b[0mVars_Indep\u001b[0m\u001b[0;34m=\u001b[0m \u001b[0mdata4_iqr\u001b[0m\u001b[0;34m[\u001b[0m\u001b[0;34m[\u001b[0m\u001b[0;34m'145_number_direct_competitors'\u001b[0m\u001b[0;34m,\u001b[0m\u001b[0;34m'272_card_days_receive_money'\u001b[0m\u001b[0;34m,\u001b[0m \u001b[0;34m'4_number_permanent_employees_last_year'\u001b[0m\u001b[0;34m]\u001b[0m\u001b[0;34m]\u001b[0m\u001b[0;34m\u001b[0m\u001b[0;34m\u001b[0m\u001b[0m\n\u001b[0m\u001b[1;32m      4\u001b[0m \u001b[0mVar_Dep\u001b[0m\u001b[0;34m=\u001b[0m \u001b[0mdata4_iqr\u001b[0m\u001b[0;34m[\u001b[0m\u001b[0;34m'97_number_of_customers_in_store'\u001b[0m\u001b[0;34m]\u001b[0m\u001b[0;34m\u001b[0m\u001b[0;34m\u001b[0m\u001b[0m\n",
            "\u001b[0;31mNameError\u001b[0m: name 'data4_iqr' is not defined"
          ]
        }
      ]
    },
    {
      "cell_type": "code",
      "source": [
        "#se define modelo como la función de regresión lineal\n",
        "from sklearn.linear_model import LinearRegression\n",
        "model= LinearRegression()"
      ],
      "metadata": {
        "id": "wSA3WUYUfq2S"
      },
      "execution_count": null,
      "outputs": []
    },
    {
      "cell_type": "code",
      "source": [
        "#Verificamos la función relacionada al modelo \n",
        "type(model)"
      ],
      "metadata": {
        "id": "-lSshm_PfzH8"
      },
      "execution_count": null,
      "outputs": []
    },
    {
      "cell_type": "code",
      "source": [
        "#ajustamos el modelo con las variables antes declaradas\n",
        "model.fit(X=Vars_Indep, y=Var_Dep)"
      ],
      "metadata": {
        "id": "Se58hOpDf0RQ"
      },
      "execution_count": null,
      "outputs": []
    },
    {
      "cell_type": "code",
      "source": [
        "#Verificamos los coeficientes obtenidos para el modelo ajustado\n",
        "model.__dict__"
      ],
      "metadata": {
        "id": "4jCGHtNgf1dH"
      },
      "execution_count": null,
      "outputs": []
    },
    {
      "cell_type": "code",
      "source": [
        "#Evaluamos la eficiencia del modelo obtenido por medio del coeficiente R determinado\n",
        "model.score(Vars_Indep,Var_Dep)"
      ],
      "metadata": {
        "id": "pyUU5jEff2d5"
      },
      "execution_count": null,
      "outputs": []
    },
    {
      "cell_type": "code",
      "source": [
        "#Declaramos las variables dependientes e independientes para la regresión logística\n",
        "Vars_Indep= data4_iqr[['145_number_direct_competitors','272_card_days_receive_money', '4_number_permanent_employees_last_year']]\n",
        "Var_Dep= data4_iqr['97_number_of_customers_in_store']"
      ],
      "metadata": {
        "id": "YBeujhOxf3wB"
      },
      "execution_count": null,
      "outputs": []
    },
    {
      "cell_type": "code",
      "source": [
        "#Redefinimos las variables\n",
        "X= Vars_Indep\n",
        "y= Var_Dep"
      ],
      "metadata": {
        "id": "XjU1HS72f5hq"
      },
      "execution_count": null,
      "outputs": []
    },
    {
      "cell_type": "code",
      "source": [
        "#Dividimos el conjunto de datos en la parte de entrenamiento y prueba:\n",
        "X_train, X_test, y_train, y_test = train_test_split(X, y, test_size=0.3, random_state =None)"
      ],
      "metadata": {
        "id": "h6aDlrh5f8hf"
      },
      "execution_count": null,
      "outputs": []
    },
    {
      "cell_type": "code",
      "source": [
        "#Se escalan todos los datos\n",
        "escalar= StandardScaler()"
      ],
      "metadata": {
        "id": "9WAoDL0SgAZm"
      },
      "execution_count": null,
      "outputs": []
    },
    {
      "cell_type": "code",
      "source": [
        "#Para realizar el escalamiento de las variables \"X\" tanto de entrenamiento como de prueba, utilizaremos fit_transform\n",
        "X_train = escalar.fit_transform(X_train)\n",
        "X_test = escalar.transform(X_test)"
      ],
      "metadata": {
        "id": "X3Xewh1xgAwc"
      },
      "execution_count": null,
      "outputs": []
    },
    {
      "cell_type": "code",
      "source": [
        "#Definimos el algoritmo a utilizar\n",
        "from sklearn.linear_model import LogisticRegression\n",
        "algoritmo = LogisticRegression()"
      ],
      "metadata": {
        "id": "ApzWsFk0gCWO"
      },
      "execution_count": null,
      "outputs": []
    },
    {
      "cell_type": "code",
      "source": [
        "#Entrenamos el modelo\n",
        "algoritmo.fit(X_train, y_train)"
      ],
      "metadata": {
        "id": "G36id_twgD-Q"
      },
      "execution_count": null,
      "outputs": []
    },
    {
      "cell_type": "code",
      "source": [
        "#Realizamos una predicción\n",
        "y_pred= algoritmo.predict(X_test)\n",
        "y_pred "
      ],
      "metadata": {
        "id": "c-V5zm5pgE-f"
      },
      "execution_count": null,
      "outputs": []
    },
    {
      "cell_type": "code",
      "source": [
        "#Verifico la matriz de Confusión\n",
        "from sklearn.metrics import confusion_matrix\n",
        "matriz = confusion_matrix(y_test, y_pred)\n",
        "print('Matriz de Confusión:')\n",
        "print(matriz)"
      ],
      "metadata": {
        "id": "k_4LHEBZgGEt"
      },
      "execution_count": null,
      "outputs": []
    },
    {
      "cell_type": "code",
      "source": [
        "#Calculo la precisión del modelo \n",
        "from sklearn.metrics import precision_score\n",
        "precision= precision_score(y_test, y_pred, average=\"micro\", pos_label=\"yes\")\n",
        "print('Precision del modelo:')\n",
        "print(precision)"
      ],
      "metadata": {
        "id": "LXQd2ZcEgHeu"
      },
      "execution_count": null,
      "outputs": []
    },
    {
      "cell_type": "code",
      "source": [
        "#Calculo la exactitud del modelo\n",
        "from sklearn.metrics import accuracy_score\n",
        "exactitud= accuracy_score(y_test, y_pred)\n",
        "print('Exactitud del modelo')\n",
        "print(exactitud)"
      ],
      "metadata": {
        "id": "Gau7NWTpgIp_"
      },
      "execution_count": null,
      "outputs": []
    },
    {
      "cell_type": "code",
      "source": [
        "#Calculo la sensibilidad del modelo \n",
        "from sklearn.metrics import recall_score\n",
        "sensibilidad=recall_score(y_test, y_pred, average='micro', pos_label=\"yes\")\n",
        "print('Sensibilidad del modelo')\n",
        "print(sensibilidad)"
      ],
      "metadata": {
        "id": "neDCPSqzgJvU"
      },
      "execution_count": null,
      "outputs": []
    },
    {
      "cell_type": "markdown",
      "source": [
        "## CONJUNTO DE VARIABLES 3"
      ],
      "metadata": {
        "id": "vJmv9erSient"
      }
    },
    {
      "cell_type": "code",
      "source": [
        "#5Y6\n",
        "#analizamos caso 1 de correlación entre variable de número de clientes en la tienda respecto al número de estantes en la tienda, el número de refrigeradores y el número de empleados permanentes\n",
        "Vars_Indep= data4_iqr[['36_credit_default_rate','62_frequency_only_services', '103_number_own_fridges']]\n",
        "Var_Dep= data4_iqr['97_number_of_customers_in_store']"
      ],
      "metadata": {
        "id": "QfLxyPfPieAQ"
      },
      "execution_count": null,
      "outputs": []
    },
    {
      "cell_type": "code",
      "source": [
        "#se define modelo como la función de regresión lineal\n",
        "from sklearn.linear_model import LinearRegression\n",
        "model= LinearRegression()"
      ],
      "metadata": {
        "id": "JPju8KSzjQFl"
      },
      "execution_count": null,
      "outputs": []
    },
    {
      "cell_type": "code",
      "source": [
        "#Verificamos la función relacionada al modelo \n",
        "type(model)"
      ],
      "metadata": {
        "id": "zbCbj6VujTP7"
      },
      "execution_count": null,
      "outputs": []
    },
    {
      "cell_type": "code",
      "source": [
        "#ajustamos el modelo con las variables antes declaradas\n",
        "model.fit(X=Vars_Indep, y=Var_Dep)"
      ],
      "metadata": {
        "id": "ryBOdm1PjaUx"
      },
      "execution_count": null,
      "outputs": []
    },
    {
      "cell_type": "code",
      "source": [
        "#Verificamos los coeficientes obtenidos para el modelo ajustado\n",
        "model.__dict__"
      ],
      "metadata": {
        "id": "KL3Ne5_GjbOw"
      },
      "execution_count": null,
      "outputs": []
    },
    {
      "cell_type": "code",
      "source": [
        "#Evaluamos la eficiencia del modelo obtenido por medio del coeficiente R determinado\n",
        "model.score(Vars_Indep,Var_Dep)"
      ],
      "metadata": {
        "id": "Szhv8tAujiS_"
      },
      "execution_count": null,
      "outputs": []
    },
    {
      "cell_type": "code",
      "source": [
        "#Declaramos las variables dependientes e independientes para la regresión logística\n",
        "Vars_Indep= data4_iqr[['36_credit_default_rate','62_frequency_only_services', '103_number_own_fridges']]\n",
        "Var_Dep= data4_iqr['97_number_of_customers_in_store']"
      ],
      "metadata": {
        "id": "mrJNqPl4joWq"
      },
      "execution_count": null,
      "outputs": []
    },
    {
      "cell_type": "code",
      "source": [
        "#Redefinimos las variables\n",
        "X= Vars_Indep\n",
        "y= Var_Dep"
      ],
      "metadata": {
        "id": "cHnbfA0hj4p_"
      },
      "execution_count": null,
      "outputs": []
    },
    {
      "cell_type": "code",
      "source": [
        "#Dividimos el conjunto de datos en la parte de entrenamiento y prueba:\n",
        "X_train, X_test, y_train, y_test = train_test_split(X, y, test_size=0.3, random_state =None)"
      ],
      "metadata": {
        "id": "oHrCvdSAj7_p"
      },
      "execution_count": null,
      "outputs": []
    },
    {
      "cell_type": "code",
      "source": [
        "#Se escalan todos los datos\n",
        "escalar= StandardScaler()"
      ],
      "metadata": {
        "id": "a_c-XwBhkCBy"
      },
      "execution_count": null,
      "outputs": []
    },
    {
      "cell_type": "code",
      "source": [
        "#Para realizar el escalamiento de las variables \"X\" tanto de entrenamiento como de prueba, utilizaremos fit_transform\n",
        "X_train = escalar.fit_transform(X_train)\n",
        "X_test = escalar.transform(X_test)"
      ],
      "metadata": {
        "id": "y_Oh_a-jkCn_"
      },
      "execution_count": null,
      "outputs": []
    },
    {
      "cell_type": "code",
      "source": [
        "#Definimos el algoritmo a utilizar\n",
        "from sklearn.linear_model import LogisticRegression\n",
        "algoritmo = LogisticRegression()"
      ],
      "metadata": {
        "id": "5qBMoiXokF3Y"
      },
      "execution_count": null,
      "outputs": []
    },
    {
      "cell_type": "code",
      "source": [
        "#Entrenamos el modelo\n",
        "algoritmo.fit(X_train, y_train)"
      ],
      "metadata": {
        "id": "B_cxqA6XkLHh"
      },
      "execution_count": null,
      "outputs": []
    },
    {
      "cell_type": "code",
      "source": [
        "#Realizamos una predicción\n",
        "y_pred= algoritmo.predict(X_test)\n",
        "y_pred "
      ],
      "metadata": {
        "id": "q6MseYIIkOR7"
      },
      "execution_count": null,
      "outputs": []
    },
    {
      "cell_type": "code",
      "source": [
        "#Verifico la matriz de Confusión\n",
        "from sklearn.metrics import confusion_matrix\n",
        "matriz = confusion_matrix(y_test, y_pred)\n",
        "print('Matriz de Confusión:')\n",
        "print(matriz)"
      ],
      "metadata": {
        "id": "Y9tifFxXkPGi"
      },
      "execution_count": null,
      "outputs": []
    },
    {
      "cell_type": "code",
      "source": [
        "#Calculo la precisión del modelo \n",
        "from sklearn.metrics import precision_score\n",
        "precision= precision_score(y_test, y_pred, average=\"micro\", pos_label=\"yes\")\n",
        "print('Precision del modelo:')\n",
        "print(precision)"
      ],
      "metadata": {
        "id": "QSmG7Zv6kVcf"
      },
      "execution_count": null,
      "outputs": []
    },
    {
      "cell_type": "code",
      "source": [
        "#Calculo la exactitud del modelo\n",
        "from sklearn.metrics import accuracy_score\n",
        "exactitud= accuracy_score(y_test, y_pred)\n",
        "print('Exactitud del modelo')\n",
        "print(exactitud)"
      ],
      "metadata": {
        "id": "c-HtbJq5kWP3"
      },
      "execution_count": null,
      "outputs": []
    },
    {
      "cell_type": "code",
      "source": [
        "#Calculo la sensibilidad del modelo \n",
        "from sklearn.metrics import recall_score\n",
        "sensibilidad=recall_score(y_test, y_pred, average='micro', pos_label=\"yes\")\n",
        "print('Sensibilidad del modelo')\n",
        "print(sensibilidad)"
      ],
      "metadata": {
        "id": "QwuiTyp_kcGw"
      },
      "execution_count": null,
      "outputs": []
    }
  ]
}